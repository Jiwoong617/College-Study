{
  "nbformat": 4,
  "nbformat_minor": 0,
  "metadata": {
    "colab": {
      "name": "iterable_유용한_함수.ipynb",
      "provenance": [],
      "collapsed_sections": []
    },
    "kernelspec": {
      "name": "python3",
      "display_name": "Python 3"
    },
    "language_info": {
      "name": "python"
    }
  },
  "cells": [
    {
      "cell_type": "markdown",
      "source": [
        "### enumerate()\n",
        "* enumerate(iterable, start = 0) 함수는 카운트와 iterable의 항목을 튜플로 묶은 형태로 반환\n",
        "* 기본적으로 0으로 시작, 다른값부터 시작하려면 start값을 변경하면 됨"
      ],
      "metadata": {
        "id": "mYzfjVNrGFNO"
      }
    },
    {
      "cell_type": "code",
      "execution_count": 2,
      "metadata": {
        "colab": {
          "base_uri": "https://localhost:8080/"
        },
        "id": "5_2VfuBcF63W",
        "outputId": "3de1e0eb-17e1-48d9-8c5c-c3f13ae72709"
      },
      "outputs": [
        {
          "output_type": "execute_result",
          "data": {
            "text/plain": [
              "[(0, 'a'), (1, 'b'), (2, 'c'), (3, 'd'), (4, 'f')]"
            ]
          },
          "metadata": {},
          "execution_count": 2
        }
      ],
      "source": [
        "a = ['a', 'b', 'c', 'd', 'f']\n",
        "list(enumerate(a))"
      ]
    },
    {
      "cell_type": "code",
      "source": [
        "for num, letter in enumerate(a, start= 1):\n",
        "  print(f'{num}은 {letter}')"
      ],
      "metadata": {
        "colab": {
          "base_uri": "https://localhost:8080/"
        },
        "id": "PoShWq4QGma8",
        "outputId": "ed9f65ab-8f80-4226-c88d-e900ed5f3d85"
      },
      "execution_count": 3,
      "outputs": [
        {
          "output_type": "stream",
          "name": "stdout",
          "text": [
            "1은 a\n",
            "2은 b\n",
            "3은 c\n",
            "4은 d\n",
            "5은 f\n"
          ]
        }
      ]
    },
    {
      "cell_type": "markdown",
      "source": [
        "### zip()\n",
        "* 2개 이상의 iterable 값을 인자로 받아 각 항목을 튜플로 짝짓기 하여 반환\n",
        "* 두 iterable의 길이가 다르면 짧은 것에 맞춤"
      ],
      "metadata": {
        "id": "O0g9BxxuHF8O"
      }
    },
    {
      "cell_type": "code",
      "source": [
        "hour = [1, 2, 3, 4, 5, 6]\n",
        "minute = ['10분', '20분', '30분']\n",
        "second = [11, 22, 33, 44]\n",
        "# 3개 이상도 가능, 제일 짧은거로 길이 맞춤\n",
        "list(zip(hour, minute, second))"
      ],
      "metadata": {
        "colab": {
          "base_uri": "https://localhost:8080/"
        },
        "id": "MYEB6lcQHEB2",
        "outputId": "73eac281-7634-4b5a-fece-a2793118490e"
      },
      "execution_count": 8,
      "outputs": [
        {
          "output_type": "execute_result",
          "data": {
            "text/plain": [
              "[(1, '10분', 11), (2, '20분', 22), (3, '30분', 33)]"
            ]
          },
          "metadata": {},
          "execution_count": 8
        }
      ]
    },
    {
      "cell_type": "code",
      "source": [
        "for h, m, s in zip(hour, minute, second):\n",
        "  print(f'{h}시 {m} {s}초')"
      ],
      "metadata": {
        "colab": {
          "base_uri": "https://localhost:8080/"
        },
        "id": "lAAUjuAFIJvW",
        "outputId": "c0a02038-33a8-401f-c157-2d46abfa6406"
      },
      "execution_count": 9,
      "outputs": [
        {
          "output_type": "stream",
          "name": "stdout",
          "text": [
            "1시 10분 11초\n",
            "2시 20분 22초\n",
            "3시 30분 33초\n"
          ]
        }
      ]
    },
    {
      "cell_type": "markdown",
      "source": [
        "### all()/any()\n",
        "* all() = iterable의 모든 항목이 참이면 True 아니면 False\n",
        "* any() = iterable의 어느 하나라도 참이면 True 아니면 False"
      ],
      "metadata": {
        "id": "WGqWOkpAIok1"
      }
    },
    {
      "cell_type": "code",
      "source": [
        "x = [10, True, 'a', 5<7]\n",
        "y = [0, False, 'b', 5>7]"
      ],
      "metadata": {
        "id": "ky6-7nqmIknt"
      },
      "execution_count": 10,
      "outputs": []
    },
    {
      "cell_type": "code",
      "source": [
        "all(x)"
      ],
      "metadata": {
        "colab": {
          "base_uri": "https://localhost:8080/"
        },
        "id": "oeekZxJjJQkU",
        "outputId": "ced3e4b3-57fa-4f21-bccb-81e8bc8e7d01"
      },
      "execution_count": 11,
      "outputs": [
        {
          "output_type": "execute_result",
          "data": {
            "text/plain": [
              "True"
            ]
          },
          "metadata": {},
          "execution_count": 11
        }
      ]
    },
    {
      "cell_type": "code",
      "source": [
        "all(y)"
      ],
      "metadata": {
        "colab": {
          "base_uri": "https://localhost:8080/"
        },
        "id": "sEvnk3-AJRl0",
        "outputId": "09afa4bb-b8d3-4198-83c3-2267b0fa07c6"
      },
      "execution_count": 12,
      "outputs": [
        {
          "output_type": "execute_result",
          "data": {
            "text/plain": [
              "False"
            ]
          },
          "metadata": {},
          "execution_count": 12
        }
      ]
    },
    {
      "cell_type": "code",
      "source": [
        "any(x)"
      ],
      "metadata": {
        "colab": {
          "base_uri": "https://localhost:8080/"
        },
        "id": "-o1drCEFJSS0",
        "outputId": "bd2c5215-425b-434a-f176-6c28a6fb15fc"
      },
      "execution_count": 13,
      "outputs": [
        {
          "output_type": "execute_result",
          "data": {
            "text/plain": [
              "True"
            ]
          },
          "metadata": {},
          "execution_count": 13
        }
      ]
    },
    {
      "cell_type": "code",
      "source": [
        "any(y)"
      ],
      "metadata": {
        "colab": {
          "base_uri": "https://localhost:8080/"
        },
        "id": "BDXSLrEcJTt8",
        "outputId": "cde39dd0-4fcd-44e5-e039-58978e4da1b8"
      },
      "execution_count": 14,
      "outputs": [
        {
          "output_type": "execute_result",
          "data": {
            "text/plain": [
              "True"
            ]
          },
          "metadata": {},
          "execution_count": 14
        }
      ]
    },
    {
      "cell_type": "markdown",
      "source": [
        "**map()/filter()**\n",
        "map 함수와 filter 함수는 따로 다뤘었음"
      ],
      "metadata": {
        "id": "LJBbieXCJXG8"
      }
    }
  ]
}