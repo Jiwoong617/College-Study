{
  "nbformat": 4,
  "nbformat_minor": 0,
  "metadata": {
    "colab": {
      "name": "객체지향_프로그래밍.ipynb",
      "provenance": [],
      "collapsed_sections": []
    },
    "kernelspec": {
      "name": "python3",
      "display_name": "Python 3"
    },
    "language_info": {
      "name": "python"
    }
  },
  "cells": [
    {
      "cell_type": "markdown",
      "source": [
        "### 클래스"
      ],
      "metadata": {
        "id": "Jm0pylXoCS5O"
      }
    },
    {
      "cell_type": "markdown",
      "source": [
        "* 분수의 클래스를 자료형으로 정의\n",
        "\n",
        "\n",
        "```\n",
        "class Fraction:\n",
        " # 메서드 선언\n",
        "```\n",
        "\n"
      ],
      "metadata": {
        "id": "cAk0iqRbC4xd"
      }
    },
    {
      "cell_type": "markdown",
      "source": [
        "**생성자**\n",
        "* 모든 파이썬 클래스는 __init__() 메서드를 포함해야됨\n",
        "* 인스턴스의 형태로 저장될 정보와 관련된 값을 인자로 받음.\n",
        "  * 인스턴스 : 객체\n",
        "  * self 매개변수는 현재 생성되는 객체를 인자로 사용(꼭 써줘야함)"
      ],
      "metadata": {
        "id": "fQA7L-AeDM3V"
      }
    },
    {
      "cell_type": "code",
      "source": [
        "class Fraction:\n",
        "\n",
        "  def __init__(self, top, bottom):\n",
        "    # top 분자\n",
        "    # bottom 분모\n",
        "\n",
        "    self.num = top\n",
        "    self.den = bottom"
      ],
      "metadata": {
        "id": "_KP4dx6uD-2u"
      },
      "execution_count": null,
      "outputs": []
    },
    {
      "cell_type": "markdown",
      "source": [
        "### 매직 매서드\n",
        "* \\_\\_매서드__() 형태, 2개의 밑줄이 양쪽을 감싼 형태\n",
        "* dir()을 사용하여 확인 가능\n",
        "* 모든 파이썬 클래스는 기본적으로 포함하는 메서드 목록이 있음\n",
        "* 각자 고유의 역할을 수행하도록 준비, 하지만 제대로 정의 되지 않은 채로 상속\n",
        "  + 따라서 프로그래머가 정의해 주어야 작동함"
      ],
      "metadata": {
        "id": "Sr89wpSyFG8V"
      }
    },
    {
      "cell_type": "code",
      "source": [
        "dir(Fraction)"
      ],
      "metadata": {
        "colab": {
          "base_uri": "https://localhost:8080/"
        },
        "id": "4I5W9LtYENcA",
        "outputId": "0f8dc1dd-83b5-4e36-be3a-6663c44d55d4"
      },
      "execution_count": null,
      "outputs": [
        {
          "output_type": "execute_result",
          "data": {
            "text/plain": [
              "['__class__',\n",
              " '__delattr__',\n",
              " '__dict__',\n",
              " '__dir__',\n",
              " '__doc__',\n",
              " '__eq__',\n",
              " '__format__',\n",
              " '__ge__',\n",
              " '__getattribute__',\n",
              " '__gt__',\n",
              " '__hash__',\n",
              " '__init__',\n",
              " '__init_subclass__',\n",
              " '__le__',\n",
              " '__lt__',\n",
              " '__module__',\n",
              " '__ne__',\n",
              " '__new__',\n",
              " '__reduce__',\n",
              " '__reduce_ex__',\n",
              " '__repr__',\n",
              " '__setattr__',\n",
              " '__sizeof__',\n",
              " '__str__',\n",
              " '__subclasshook__',\n",
              " '__weakref__']"
            ]
          },
          "metadata": {},
          "execution_count": 59
        }
      ]
    },
    {
      "cell_type": "markdown",
      "source": [
        "str 매직메서드와 repr매직 메소드.\n",
        "* str 메서드는 받은 인자를 문자열로 변환\n",
        "* repr 메서드는 받은 인자를 문자열로 변환후 표현."
      ],
      "metadata": {
        "id": "n81DRcVIGVrG"
      }
    },
    {
      "cell_type": "code",
      "source": [
        "class Fraction1:\n",
        "\n",
        "  def __init__(self, top, bottom):\n",
        "    # top 분자\n",
        "    # bottom 분모\n",
        "\n",
        "    self.num = top\n",
        "    self.den = bottom\n",
        "  \n",
        "  def __str__(self):\n",
        "    return f'{self.num}/{self.den}'\n",
        "\n",
        "  def __repr__(self):\n",
        "    return f'{self.num}/{self.den}'"
      ],
      "metadata": {
        "id": "f785ukOnFYP2"
      },
      "execution_count": null,
      "outputs": []
    },
    {
      "cell_type": "code",
      "source": [
        "frac = Fraction1(3,5)\n",
        "print(frac)\n",
        "frac"
      ],
      "metadata": {
        "colab": {
          "base_uri": "https://localhost:8080/"
        },
        "id": "g6Fyz2KvGps2",
        "outputId": "386d94fa-e39d-46fd-e43a-0a68f60e761c"
      },
      "execution_count": null,
      "outputs": [
        {
          "output_type": "stream",
          "name": "stdout",
          "text": [
            "3/5\n"
          ]
        },
        {
          "output_type": "execute_result",
          "data": {
            "text/plain": [
              "3/5"
            ]
          },
          "metadata": {},
          "execution_count": 68
        }
      ]
    },
    {
      "cell_type": "markdown",
      "source": [
        "ex) 매직 메서드를 사용한 분수 클래스 정의"
      ],
      "metadata": {
        "id": "kCDw9wS3IB9F"
      }
    },
    {
      "cell_type": "code",
      "source": [
        "def gcd(m, n):\n",
        "    while m % n != 0:\n",
        "        m, n = n, m % n\n",
        "    return n\n",
        "\n",
        "class Fraction:\n",
        "\n",
        "    def __init__(self, top, bottom):\n",
        "        #top: 분자\n",
        "        #bottom: 분모\n",
        "        if(top == int(top) and bottom == int(bottom)): #분자와 분모가 정수임을 확인\n",
        "          self.num = top\n",
        "          self.den = bottom\n",
        "          common = gcd(self.num, self.den)\n",
        "          self.num //= common\n",
        "          self.den //= common\n",
        "        elif(top != int(top)): #분자, 분모가 정수가 아닐 때 오류메세지(예외) 출력\n",
        "          raise Exception(\"분자가 정수가 아닙니다.\")\n",
        "        elif(bottom != int(bottom)):\n",
        "          raise Exception(\"분모가 정수가 아닙니다.\")\n",
        "        else :\n",
        "          raise Exception(\"분모, 분자 둘다 정수가 아닙니다.\")\n",
        "          \n",
        "\n",
        "    def __str__(self): # 문자열로 변환\n",
        "        return f\"{self.num}/{self.den}\"\n",
        "\n",
        "    def __add__(self, other_fraction):\n",
        "        new_num = self.num * other_fraction.den + self.den * other_fraction.num\n",
        "        new_den = self.den * other_fraction.den \n",
        "        return Fraction(new_num, new_den)\n",
        "\n",
        "    def __eq__(self, other_fraction): # 서로 다른 두 함수가 같은지 비교\n",
        "        first_num = self.num * other_fraction.den\n",
        "        second_num = other_fraction.num * self.den\n",
        "\n",
        "        return first_num == second_num\n",
        "\n",
        "    def __repr__(self): # 문자열로 변환후 표현\n",
        "      return f\"{self.num}/{self.den}\"\n",
        "\n",
        "    def get_num(self): # 분자 반환\n",
        "      return self.num\n",
        "\n",
        "    def get_den(self): #분모 반환\n",
        "      return self.den\n",
        "\n",
        "    def __sub__(self, other): #함수의 뺄셈 메서드 정의.\n",
        "      new_num = self.num * other.den - self.den * other.num \n",
        "      new_den = self.den * other.den\n",
        "      if new_num == 0: #분자가 0일 때는 분모 관계없이 0을 반환하도록 하였습니다.\n",
        "        return 0\n",
        "      return Fraction(new_num, new_den)\n",
        "\n",
        "    def __mul__(self, other): #함수의 곱셈 메서드 정의\n",
        "      new_num = self.num * other.num\n",
        "      new_den = self.den * other.den\n",
        "      if new_num == 0: #분자가 0일 때는 분모 관계없이 0을 반환하도록 하였습니다.\n",
        "        return 0\n",
        "      return Fraction(new_num, new_den)\n",
        "\n",
        "    def __truediv__(self, other): #함수의 나눗셈 정의\n",
        "      new_num = self.num * other.den \n",
        "      new_den = self.den * other.num \n",
        "      # 분모가 0인 분수는 없으니 곱셈처럼 0 반환을 따로 쓰지는 않음\n",
        "      return Fraction(new_num, new_den)\n",
        "\n",
        "    def __gt__(self, other): #greater 메서드 정의\n",
        "      first_num = self.num * other.den\n",
        "      second_num = other.num * self.den\n",
        "      return first_num > second_num\n",
        "\n",
        "    def __ge__(self, other): #greater of equal 메서드 정의\n",
        "      first_num = self.num * other.den\n",
        "      second_num = other.num * self.den\n",
        "      return first_num >= second_num\n",
        "\n",
        "    def __lt__(self, other): #little 메서드 정의\n",
        "      first_num = self.num * other.den\n",
        "      second_num = other.num * self.den\n",
        "      return first_num < second_num\n",
        "\n",
        "    def __le__(self, other): #little or equal 메서드 정의\n",
        "      first_num = self.num * other.den\n",
        "      second_num = other.num * self.den\n",
        "      return first_num <= second_num\n",
        "\n",
        "    def __ne__(self, other): #not equal 메서드 정의\n",
        "      first_num = self.num * other.den\n",
        "      second_num = other.num * self.den\n",
        "      return first_num != second_num\n",
        "\n"
      ],
      "metadata": {
        "id": "o5nxJSpmHjxF"
      },
      "execution_count": null,
      "outputs": []
    },
    {
      "cell_type": "code",
      "source": [
        "f1 = Fraction(1, 3)\n",
        "f2 = Fraction(1, 2)\n",
        "print(f1 == f2)"
      ],
      "metadata": {
        "colab": {
          "base_uri": "https://localhost:8080/"
        },
        "id": "sLFN_-5YJs9s",
        "outputId": "820fd2cb-4343-487a-d0de-067f5e2a1ff4"
      },
      "execution_count": null,
      "outputs": [
        {
          "output_type": "stream",
          "name": "stdout",
          "text": [
            "False\n"
          ]
        }
      ]
    },
    {
      "cell_type": "code",
      "source": [
        "f1 = Fraction(1, 3)\n",
        "f2 = Fraction(1, 2)\n",
        "print(f2/f1)"
      ],
      "metadata": {
        "colab": {
          "base_uri": "https://localhost:8080/"
        },
        "id": "vcq0G22lJxWz",
        "outputId": "d9be1a49-d44f-4984-d087-75bead26a412"
      },
      "execution_count": null,
      "outputs": [
        {
          "output_type": "stream",
          "name": "stdout",
          "text": [
            "3/2\n"
          ]
        }
      ]
    },
    {
      "cell_type": "code",
      "source": [
        "f1 = Fraction(1, 3)\n",
        "f2 = Fraction(1, 2)\n",
        "print(f2+f1)"
      ],
      "metadata": {
        "colab": {
          "base_uri": "https://localhost:8080/"
        },
        "id": "TXUtX8eqKnPM",
        "outputId": "80d6a357-9129-42f7-9546-cb2254e02944"
      },
      "execution_count": null,
      "outputs": [
        {
          "output_type": "stream",
          "name": "stdout",
          "text": [
            "5/6\n"
          ]
        }
      ]
    },
    {
      "cell_type": "code",
      "source": [
        ""
      ],
      "metadata": {
        "id": "tO14E31HKtY0"
      },
      "execution_count": null,
      "outputs": []
    }
  ]
}