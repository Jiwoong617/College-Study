{
  "nbformat": 4,
  "nbformat_minor": 0,
  "metadata": {
    "colab": {
      "name": "자료형-리스트,튜플.ipynb",
      "provenance": [],
      "collapsed_sections": []
    },
    "kernelspec": {
      "name": "python3",
      "display_name": "Python 3"
    },
    "language_info": {
      "name": "python"
    }
  },
  "cells": [
    {
      "cell_type": "markdown",
      "source": [
        "### 리스트\n",
        "* 대괄호 [ ] 사용, 각 항목을 ,로 구분\n",
        "* 서로 다른 자료형의 항목들을 포함 가능"
      ],
      "metadata": {
        "id": "cOJKhKKMhpuv"
      }
    },
    {
      "cell_type": "code",
      "execution_count": 1,
      "metadata": {
        "id": "LjknrvCHhFkA"
      },
      "outputs": [],
      "source": [
        "a = [1, 1.2, \"hi\", True, [1, 2], (1,2)] #서로 다른 자료형"
      ]
    },
    {
      "cell_type": "markdown",
      "source": [
        "빈 리스트 생성"
      ],
      "metadata": {
        "id": "DxHcNrxli-OQ"
      }
    },
    {
      "cell_type": "code",
      "source": [
        "x = []"
      ],
      "metadata": {
        "id": "Tsxe16SXi03P"
      },
      "execution_count": 2,
      "outputs": []
    },
    {
      "cell_type": "markdown",
      "source": [
        "**리스트 연산**"
      ],
      "metadata": {
        "id": "62OYGjLOjHyy"
      }
    },
    {
      "cell_type": "markdown",
      "source": [
        "in 연산자 : 리스트 항목에 있는지 알려주는 논리 연산자"
      ],
      "metadata": {
        "id": "20H8NMPijL0Q"
      }
    },
    {
      "cell_type": "code",
      "source": [
        "3 in [1,2,3,4,5]"
      ],
      "metadata": {
        "colab": {
          "base_uri": "https://localhost:8080/"
        },
        "id": "WTKYWZBxjDlW",
        "outputId": "21825786-4b45-41b8-9a9a-896c04bd7f82"
      },
      "execution_count": 3,
      "outputs": [
        {
          "output_type": "execute_result",
          "data": {
            "text/plain": [
              "True"
            ]
          },
          "metadata": {},
          "execution_count": 3
        }
      ]
    },
    {
      "cell_type": "markdown",
      "source": [
        "이어 붙이기/복제"
      ],
      "metadata": {
        "id": "o6QleXRBjYVB"
      }
    },
    {
      "cell_type": "code",
      "source": [
        "[1,2,3] + [4,5,6]"
      ],
      "metadata": {
        "colab": {
          "base_uri": "https://localhost:8080/"
        },
        "id": "o5aac88OjVWS",
        "outputId": "8050d49b-4836-4f6d-d0d0-60427e1b88dc"
      },
      "execution_count": 4,
      "outputs": [
        {
          "output_type": "execute_result",
          "data": {
            "text/plain": [
              "[1, 2, 3, 4, 5, 6]"
            ]
          },
          "metadata": {},
          "execution_count": 4
        }
      ]
    },
    {
      "cell_type": "code",
      "source": [
        "[1,2,3] * 3"
      ],
      "metadata": {
        "colab": {
          "base_uri": "https://localhost:8080/"
        },
        "id": "he_huooIja27",
        "outputId": "6f7f6248-7370-4f30-f85e-34d250abd48a"
      },
      "execution_count": 5,
      "outputs": [
        {
          "output_type": "execute_result",
          "data": {
            "text/plain": [
              "[1, 2, 3, 1, 2, 3, 1, 2, 3]"
            ]
          },
          "metadata": {},
          "execution_count": 5
        }
      ]
    },
    {
      "cell_type": "markdown",
      "source": [
        "min()/max() 함수"
      ],
      "metadata": {
        "id": "qYoLHV5ujg8p"
      }
    },
    {
      "cell_type": "code",
      "source": [
        "a = [1,2,3,4,6,7]"
      ],
      "metadata": {
        "id": "0VLgTXKmje4v"
      },
      "execution_count": 6,
      "outputs": []
    },
    {
      "cell_type": "code",
      "source": [
        "max(a)"
      ],
      "metadata": {
        "colab": {
          "base_uri": "https://localhost:8080/"
        },
        "id": "36lxNhsyjq7k",
        "outputId": "b1220ca3-446c-4cbb-c899-87981c832337"
      },
      "execution_count": 7,
      "outputs": [
        {
          "output_type": "execute_result",
          "data": {
            "text/plain": [
              "7"
            ]
          },
          "metadata": {},
          "execution_count": 7
        }
      ]
    },
    {
      "cell_type": "code",
      "source": [
        "min(a)"
      ],
      "metadata": {
        "colab": {
          "base_uri": "https://localhost:8080/"
        },
        "id": "8QWxnPh-jq4U",
        "outputId": "88315bc4-f4a1-4ef3-a62b-5a5a98886382"
      },
      "execution_count": 8,
      "outputs": [
        {
          "output_type": "execute_result",
          "data": {
            "text/plain": [
              "1"
            ]
          },
          "metadata": {},
          "execution_count": 8
        }
      ]
    },
    {
      "cell_type": "markdown",
      "source": [
        "len() 함수"
      ],
      "metadata": {
        "id": "WmzQnybzjuAg"
      }
    },
    {
      "cell_type": "code",
      "source": [
        "len(a) #항목의 개수 반환"
      ],
      "metadata": {
        "colab": {
          "base_uri": "https://localhost:8080/"
        },
        "id": "Jtq_fUVMjteP",
        "outputId": "7b89c2ed-625d-40f8-ebe0-b322fbd30c22"
      },
      "execution_count": 10,
      "outputs": [
        {
          "output_type": "execute_result",
          "data": {
            "text/plain": [
              "6"
            ]
          },
          "metadata": {},
          "execution_count": 10
        }
      ]
    },
    {
      "cell_type": "markdown",
      "source": [
        "del : 리스트의 일부/전체 삭제 가능"
      ],
      "metadata": {
        "id": "VdjZvcR8kt0p"
      }
    },
    {
      "cell_type": "code",
      "source": [
        "a = [1,2,3,4,5]\n",
        "del a[2]\n",
        "print(a)"
      ],
      "metadata": {
        "colab": {
          "base_uri": "https://localhost:8080/"
        },
        "id": "5wmsb8zyk5Jh",
        "outputId": "14ee103a-5310-4f08-8b1d-b0d7a88bb158"
      },
      "execution_count": 21,
      "outputs": [
        {
          "output_type": "stream",
          "name": "stdout",
          "text": [
            "[1, 2, 4, 5]\n"
          ]
        }
      ]
    },
    {
      "cell_type": "markdown",
      "source": [
        "**리스트 인덱싱/슬라이싱**"
      ],
      "metadata": {
        "id": "7cWN5cDhkNKv"
      }
    },
    {
      "cell_type": "code",
      "source": [
        "x = [1,2,3,4,5,6,7,8,9,10]"
      ],
      "metadata": {
        "id": "Zx6EWzdtjxF5"
      },
      "execution_count": 12,
      "outputs": []
    },
    {
      "cell_type": "markdown",
      "source": [
        "인덱싱"
      ],
      "metadata": {
        "id": "jOrR_lc_kZH1"
      }
    },
    {
      "cell_type": "code",
      "source": [
        "print(x[-1])\n",
        "print(x[5])"
      ],
      "metadata": {
        "colab": {
          "base_uri": "https://localhost:8080/"
        },
        "id": "hLnXIOUUkUPt",
        "outputId": "ebf2ba37-a9c3-40ef-b7ce-a25c69895ffe"
      },
      "execution_count": 15,
      "outputs": [
        {
          "output_type": "stream",
          "name": "stdout",
          "text": [
            "10\n",
            "6\n"
          ]
        }
      ]
    },
    {
      "cell_type": "markdown",
      "source": [
        "슬라이싱"
      ],
      "metadata": {
        "id": "Lt0HIJ6BkfLr"
      }
    },
    {
      "cell_type": "code",
      "source": [
        "x[1:10:2]"
      ],
      "metadata": {
        "colab": {
          "base_uri": "https://localhost:8080/"
        },
        "id": "qmRIVOvZkYpR",
        "outputId": "0da98300-7039-42af-84b0-33aaef4ea007"
      },
      "execution_count": 17,
      "outputs": [
        {
          "output_type": "execute_result",
          "data": {
            "text/plain": [
              "[2, 4, 6, 8, 10]"
            ]
          },
          "metadata": {},
          "execution_count": 17
        }
      ]
    },
    {
      "cell_type": "code",
      "source": [
        "x[::-1]"
      ],
      "metadata": {
        "colab": {
          "base_uri": "https://localhost:8080/"
        },
        "id": "XF5RGYjAki_a",
        "outputId": "2c7379e6-203c-4949-82a8-e68854225893"
      },
      "execution_count": 18,
      "outputs": [
        {
          "output_type": "execute_result",
          "data": {
            "text/plain": [
              "[10, 9, 8, 7, 6, 5, 4, 3, 2, 1]"
            ]
          },
          "metadata": {},
          "execution_count": 18
        }
      ]
    },
    {
      "cell_type": "markdown",
      "source": [
        "**리스트 메서드**"
      ],
      "metadata": {
        "id": "kurYtlg8kr0s"
      }
    },
    {
      "cell_type": "code",
      "source": [
        "ex = [1,2,3,4,5,\"hi\", \"hello\"]"
      ],
      "metadata": {
        "id": "Ps0bkIy7lVYy"
      },
      "execution_count": 49,
      "outputs": []
    },
    {
      "cell_type": "markdown",
      "source": [
        ".append() : 리스트 끝에 항목 추가. 반환값 None"
      ],
      "metadata": {
        "id": "029zkEZzlNUL"
      }
    },
    {
      "cell_type": "code",
      "source": [
        "ex.append(10)\n",
        "print(ex)"
      ],
      "metadata": {
        "colab": {
          "base_uri": "https://localhost:8080/"
        },
        "id": "nEtZF1EIkmVf",
        "outputId": "1193ca5b-6df2-41a5-b81f-28677ab0ecaf"
      },
      "execution_count": 50,
      "outputs": [
        {
          "output_type": "stream",
          "name": "stdout",
          "text": [
            "[1, 2, 3, 4, 5, 'hi', 'hello', 10]\n"
          ]
        }
      ]
    },
    {
      "cell_type": "markdown",
      "source": [
        ".extend() : 리스트를 연결하여 확장. 반환값 None\n",
        "* ( ) 안에는 iterable자료가 들어가야된다.\n"
      ],
      "metadata": {
        "id": "4ZAGYhFql1Dn"
      }
    },
    {
      "cell_type": "code",
      "source": [
        "ex.extend([\"how\", \" are\", \"you\"])\n",
        "print(ex)"
      ],
      "metadata": {
        "colab": {
          "base_uri": "https://localhost:8080/"
        },
        "id": "BqkWGXMVlwKx",
        "outputId": "8c9f71b9-1f76-46c6-fec7-9f955b0a687d"
      },
      "execution_count": 51,
      "outputs": [
        {
          "output_type": "stream",
          "name": "stdout",
          "text": [
            "[1, 2, 3, 4, 5, 'hi', 'hello', 10, 'how', ' are', 'you']\n"
          ]
        }
      ]
    },
    {
      "cell_type": "markdown",
      "source": [
        "append와 extend의 차이점\n",
        "* append 는 한번에 들어가지만\n",
        "* extend 는 쪼개서 들어간다"
      ],
      "metadata": {
        "id": "-WQe7xtsmvsY"
      }
    },
    {
      "cell_type": "code",
      "source": [
        "a = [1,2,3,4,5]"
      ],
      "metadata": {
        "id": "_E1ClyPDmzMu"
      },
      "execution_count": 52,
      "outputs": []
    },
    {
      "cell_type": "code",
      "source": [
        "a.append([\"hi\",\"hello\"])\n",
        "print(a)"
      ],
      "metadata": {
        "colab": {
          "base_uri": "https://localhost:8080/"
        },
        "id": "4a5muSMKmUrN",
        "outputId": "93083e5c-63a7-4596-a458-75e3801f9393"
      },
      "execution_count": 53,
      "outputs": [
        {
          "output_type": "stream",
          "name": "stdout",
          "text": [
            "[1, 2, 3, 4, 5, ['hi', 'hello']]\n"
          ]
        }
      ]
    },
    {
      "cell_type": "code",
      "source": [
        "a.extend([\"hi\",\"hello\"])\n",
        "print(a)"
      ],
      "metadata": {
        "colab": {
          "base_uri": "https://localhost:8080/"
        },
        "id": "MruQB10lm3q6",
        "outputId": "ffada3d3-81d4-492d-cf40-51e17f739378"
      },
      "execution_count": 54,
      "outputs": [
        {
          "output_type": "stream",
          "name": "stdout",
          "text": [
            "[1, 2, 3, 4, 5, ['hi', 'hello'], 'hi', 'hello']\n"
          ]
        }
      ]
    },
    {
      "cell_type": "markdown",
      "source": [
        ".insert() : 지정된 인덱스에 항목 추가. 반환값 None"
      ],
      "metadata": {
        "id": "h13FLDr-nYeN"
      }
    },
    {
      "cell_type": "code",
      "source": [
        "ex.insert(1, 50)\n",
        "print(ex)"
      ],
      "metadata": {
        "colab": {
          "base_uri": "https://localhost:8080/"
        },
        "id": "bmihqJLum9UH",
        "outputId": "3166ed04-e0ab-4340-aecf-ddd9ddaff7de"
      },
      "execution_count": 55,
      "outputs": [
        {
          "output_type": "stream",
          "name": "stdout",
          "text": [
            "[1, 50, 2, 3, 4, 5, 'hi', 'hello', 10, 'how', ' are', 'you']\n"
          ]
        }
      ]
    },
    {
      "cell_type": "markdown",
      "source": [
        ".pop() : 지정된 인데스의 항목 삭제 후 삭제된값 반환\n",
        "* 인덱스 지정 안할 시 마지막 항목 삭제"
      ],
      "metadata": {
        "id": "u85llwCynoHc"
      }
    },
    {
      "cell_type": "code",
      "source": [
        "b = ex.pop(1)\n",
        "print(b, ex)"
      ],
      "metadata": {
        "colab": {
          "base_uri": "https://localhost:8080/"
        },
        "id": "Xhi8iBernkZp",
        "outputId": "6114d74f-2586-4e6c-bf00-4004300e9567"
      },
      "execution_count": 56,
      "outputs": [
        {
          "output_type": "stream",
          "name": "stdout",
          "text": [
            "50 [1, 2, 3, 4, 5, 'hi', 'hello', 10, 'how', ' are', 'you']\n"
          ]
        }
      ]
    },
    {
      "cell_type": "markdown",
      "source": [
        ".remove() : 지정된 항목이 처음으로 사용된 위치에서 삭제, 반환값 None\n",
        "* 항목이 리스트 안에 없을 경우 오류 발생"
      ],
      "metadata": {
        "id": "L1_OCdKJoA4W"
      }
    },
    {
      "cell_type": "code",
      "source": [
        "ex.remove(\"hello\")\n",
        "print(ex)"
      ],
      "metadata": {
        "colab": {
          "base_uri": "https://localhost:8080/"
        },
        "id": "hL-mp2o-n_OD",
        "outputId": "f6da401f-a3c8-434b-9eb7-05a483f7852e"
      },
      "execution_count": 57,
      "outputs": [
        {
          "output_type": "stream",
          "name": "stdout",
          "text": [
            "[1, 2, 3, 4, 5, 'hi', 10, 'how', ' are', 'you']\n"
          ]
        }
      ]
    },
    {
      "cell_type": "markdown",
      "source": [
        ".sort() : 리스트를 크기 순으로 정렬, 반환값 None\n",
        "* 문자열로 이루어진 리스트도 정렬 가능\n",
        "* int, str 이 혼용되어 있을경우 오류 발생"
      ],
      "metadata": {
        "id": "SqHSLPWwoXRr"
      }
    },
    {
      "cell_type": "code",
      "source": [
        "ex2 = [10, 5, 1, 2,4 ,9]\n",
        "ex2.sort()\n",
        "print(ex2)"
      ],
      "metadata": {
        "colab": {
          "base_uri": "https://localhost:8080/"
        },
        "id": "FQVZNysUoNV9",
        "outputId": "704e1754-24fb-43e2-9f6f-f5d8edaf94e6"
      },
      "execution_count": 65,
      "outputs": [
        {
          "output_type": "stream",
          "name": "stdout",
          "text": [
            "[1, 2, 4, 5, 9, 10]\n"
          ]
        }
      ]
    },
    {
      "cell_type": "markdown",
      "source": [
        ".reverse() : 리스트 항목들 순서 뒤집기, 반환값 None"
      ],
      "metadata": {
        "id": "uWJXJSypo9Wl"
      }
    },
    {
      "cell_type": "code",
      "source": [
        "ex2.reverse()\n",
        "print(ex2)"
      ],
      "metadata": {
        "colab": {
          "base_uri": "https://localhost:8080/"
        },
        "id": "llY-Uvqrovlx",
        "outputId": "3e56986e-16ab-4417-8d73-40c2c8e3d1a2"
      },
      "execution_count": 66,
      "outputs": [
        {
          "output_type": "stream",
          "name": "stdout",
          "text": [
            "[10, 9, 5, 4, 2, 1]\n"
          ]
        }
      ]
    },
    {
      "cell_type": "code",
      "source": [
        "ex3 = [-1,2,77,4,-6, 3]\n",
        "ex3.sort(reverse = True) # 역순으로 정렬\n",
        "print(ex3)"
      ],
      "metadata": {
        "colab": {
          "base_uri": "https://localhost:8080/"
        },
        "id": "zdzq4QzupXsz",
        "outputId": "bc123037-e2ce-459e-f3fb-2a422310d8fc"
      },
      "execution_count": 70,
      "outputs": [
        {
          "output_type": "stream",
          "name": "stdout",
          "text": [
            "[77, 4, 3, 2, -1, -6]\n"
          ]
        }
      ]
    },
    {
      "cell_type": "markdown",
      "source": [
        ".index() : 지정된 항목이 처음 위치한 인덱스 반환"
      ],
      "metadata": {
        "id": "f-pyy-_NpruT"
      }
    },
    {
      "cell_type": "code",
      "source": [
        "ex.index(\"hi\")"
      ],
      "metadata": {
        "colab": {
          "base_uri": "https://localhost:8080/"
        },
        "id": "gUj6DNTwpi0H",
        "outputId": "615cbfba-da81-405b-ad1d-7d6241d80a40"
      },
      "execution_count": 73,
      "outputs": [
        {
          "output_type": "execute_result",
          "data": {
            "text/plain": [
              "5"
            ]
          },
          "metadata": {},
          "execution_count": 73
        }
      ]
    },
    {
      "cell_type": "markdown",
      "source": [
        ".count() : 지정된 항목이 등장한 횟수 반환"
      ],
      "metadata": {
        "id": "kCx4ZRWUp5Nd"
      }
    },
    {
      "cell_type": "code",
      "source": [
        "ex.count(\"hi\")"
      ],
      "metadata": {
        "colab": {
          "base_uri": "https://localhost:8080/"
        },
        "id": "VGHQyKN4p2ot",
        "outputId": "8eacf221-01f1-4917-a355-e96411eb5276"
      },
      "execution_count": 74,
      "outputs": [
        {
          "output_type": "execute_result",
          "data": {
            "text/plain": [
              "1"
            ]
          },
          "metadata": {},
          "execution_count": 74
        }
      ]
    },
    {
      "cell_type": "markdown",
      "source": [
        "ex) 공백 기준으로 문자열을 뒤집어서 반환하는 함수"
      ],
      "metadata": {
        "id": "1tOHS0xqsPiB"
      }
    },
    {
      "cell_type": "code",
      "source": [
        "def reverse_words(s):\n",
        "  rev = s.split()\n",
        "  for i in range(len(rev)):\n",
        "    rev[i] = rev[i][::-1]\n",
        "\n",
        "  rev2 = ' '.join(map(str,rev))\n",
        "  return rev2\n",
        "\n",
        "reverse_words(\"안녕하세요 감사해요 잘있어요 다시만나요\")"
      ],
      "metadata": {
        "colab": {
          "base_uri": "https://localhost:8080/",
          "height": 35
        },
        "id": "L3sGrGmdsV7z",
        "outputId": "1a0aa7f5-e935-4b61-c823-fd840b81e661"
      },
      "execution_count": 91,
      "outputs": [
        {
          "output_type": "execute_result",
          "data": {
            "text/plain": [
              "'요세하녕안 요해사감 요어있잘 요나만시다'"
            ],
            "application/vnd.google.colaboratory.intrinsic+json": {
              "type": "string"
            }
          },
          "metadata": {},
          "execution_count": 91
        }
      ]
    },
    {
      "cell_type": "markdown",
      "source": [
        "### 튜플\n",
        "* 리스트와 비슷하지만 값 변경이 불가능.\n",
        "* ( ) 사용, 각항목을 ,로 구분\n",
        "* 길이가 1인 튜플은 반드시 , 붙여야됨 안 붙이면 튜플로 간주 안됨\n",
        "* 연산, 인덱싱/슬라이싱 모두 리스트와 같은 형식"
      ],
      "metadata": {
        "id": "DPPYFrbnqHU7"
      }
    },
    {
      "cell_type": "code",
      "source": [
        "a = (1,2,3)"
      ],
      "metadata": {
        "id": "hB4h8yC7qAaU"
      },
      "execution_count": 75,
      "outputs": []
    },
    {
      "cell_type": "code",
      "source": [
        "b = (1,) #길이가 1인 튜플"
      ],
      "metadata": {
        "id": "uf6z07O0qc0j"
      },
      "execution_count": 77,
      "outputs": []
    },
    {
      "cell_type": "markdown",
      "source": [
        "빈 튜플"
      ],
      "metadata": {
        "id": "dLveQ_XGqkNo"
      }
    },
    {
      "cell_type": "code",
      "source": [
        "c = ()"
      ],
      "metadata": {
        "id": "Feo0ZnqrqedY"
      },
      "execution_count": 80,
      "outputs": []
    },
    {
      "cell_type": "markdown",
      "source": [
        "**튜플 메서드**"
      ],
      "metadata": {
        "id": "8DTgTkD0q--E"
      }
    },
    {
      "cell_type": "markdown",
      "source": [
        ".index() : 지정된 항목이 처음 위치한 인덱스 반환"
      ],
      "metadata": {
        "id": "dBDYBhTQrQ4m"
      }
    },
    {
      "cell_type": "code",
      "source": [
        "x = (1,2,3,4,5)\n",
        "x.index(3)"
      ],
      "metadata": {
        "colab": {
          "base_uri": "https://localhost:8080/"
        },
        "id": "Uh3LAJVaqnAL",
        "outputId": "f3924ba7-1b38-44f3-b343-7d961556f73c"
      },
      "execution_count": 82,
      "outputs": [
        {
          "output_type": "execute_result",
          "data": {
            "text/plain": [
              "2"
            ]
          },
          "metadata": {},
          "execution_count": 82
        }
      ]
    },
    {
      "cell_type": "markdown",
      "source": [
        ".count() : 지정된 항목이 등장한 횟수 반환"
      ],
      "metadata": {
        "id": "6xgKms2MrZBt"
      }
    },
    {
      "cell_type": "code",
      "source": [
        "y = (1,1,2,3,5,1,1,2,3)\n",
        "y.count(1)"
      ],
      "metadata": {
        "colab": {
          "base_uri": "https://localhost:8080/"
        },
        "id": "44B_KbbKrXFw",
        "outputId": "49620e0d-f007-4b32-d7a6-d836ab26ff47"
      },
      "execution_count": 85,
      "outputs": [
        {
          "output_type": "execute_result",
          "data": {
            "text/plain": [
              "4"
            ]
          },
          "metadata": {},
          "execution_count": 85
        }
      ]
    },
    {
      "cell_type": "markdown",
      "source": [
        "**튜플 안 다른 자료형**\n",
        "* 튜플은 append메서드를 지원하지 않지만 튜플안의 리스트는 사용가능\n",
        "  * 한마디로 튜플 안 자료형에 해당하는 메서드는 사용가능"
      ],
      "metadata": {
        "id": "pZQAzi7vrrKh"
      }
    },
    {
      "cell_type": "code",
      "source": [
        "a = ([\"a\",\"b\"],1,2,3)\n",
        "a[0].append(\"c\")\n",
        "print(a)"
      ],
      "metadata": {
        "colab": {
          "base_uri": "https://localhost:8080/"
        },
        "id": "vYTPISJLrkhU",
        "outputId": "91a97ca6-c2ae-449d-9511-26944236ca7b"
      },
      "execution_count": 88,
      "outputs": [
        {
          "output_type": "stream",
          "name": "stdout",
          "text": [
            "(['a', 'b', 'c'], 1, 2, 3)\n"
          ]
        }
      ]
    }
  ]
}