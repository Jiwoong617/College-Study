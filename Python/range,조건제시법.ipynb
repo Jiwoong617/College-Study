{
  "nbformat": 4,
  "nbformat_minor": 0,
  "metadata": {
    "colab": {
      "name": "range,조건제시법.ipynb",
      "provenance": [],
      "collapsed_sections": []
    },
    "kernelspec": {
      "name": "python3",
      "display_name": "Python 3"
    },
    "language_info": {
      "name": "python"
    }
  },
  "cells": [
    {
      "cell_type": "markdown",
      "source": [
        "### range 자료형\n",
        "- 리스트, 튜플과 비슷\n",
        "- 반환값이 range이고 항목을 바로 확인 할 수 없음\n",
        "- 최대 3개의 인자를 받으며 (시작, 끝, 계단)으로 리스트/튜플의 슬라이싱과 같다"
      ],
      "metadata": {
        "id": "pztUlw_jn8M5"
      }
    },
    {
      "cell_type": "code",
      "execution_count": 1,
      "metadata": {
        "colab": {
          "base_uri": "https://localhost:8080/"
        },
        "id": "UFsicytlnlSn",
        "outputId": "2ebd4d8c-a4fa-4569-af4b-40a50ba8e3b9"
      },
      "outputs": [
        {
          "output_type": "execute_result",
          "data": {
            "text/plain": [
              "range(0, 5)"
            ]
          },
          "metadata": {},
          "execution_count": 1
        }
      ],
      "source": [
        "range(5)"
      ]
    },
    {
      "cell_type": "code",
      "source": [
        "for i in range(5):\n",
        "  print(i)"
      ],
      "metadata": {
        "colab": {
          "base_uri": "https://localhost:8080/"
        },
        "id": "Yw-NzLXkomWJ",
        "outputId": "de4d8b91-c38a-4f1d-c1bf-100ff314493e"
      },
      "execution_count": 3,
      "outputs": [
        {
          "output_type": "stream",
          "name": "stdout",
          "text": [
            "0\n",
            "1\n",
            "2\n",
            "3\n",
            "4\n"
          ]
        }
      ]
    },
    {
      "cell_type": "markdown",
      "source": [
        "리스트/튜플에 넣기"
      ],
      "metadata": {
        "id": "2UqD6y-Yo79g"
      }
    },
    {
      "cell_type": "code",
      "source": [
        "list(range(1,10,3))"
      ],
      "metadata": {
        "colab": {
          "base_uri": "https://localhost:8080/"
        },
        "id": "k7DeuGgIorNQ",
        "outputId": "bf072dcd-f51c-40b6-af11-6faa55a78a4f"
      },
      "execution_count": 4,
      "outputs": [
        {
          "output_type": "execute_result",
          "data": {
            "text/plain": [
              "[1, 4, 7]"
            ]
          },
          "metadata": {},
          "execution_count": 4
        }
      ]
    },
    {
      "cell_type": "code",
      "source": [
        "tuple(range(0,5,2))"
      ],
      "metadata": {
        "colab": {
          "base_uri": "https://localhost:8080/"
        },
        "id": "GFyZ8JKvovc4",
        "outputId": "53aece2a-5ebe-41ec-ba1f-5c48d6104c1c"
      },
      "execution_count": 5,
      "outputs": [
        {
          "output_type": "execute_result",
          "data": {
            "text/plain": [
              "(0, 2, 4)"
            ]
          },
          "metadata": {},
          "execution_count": 5
        }
      ]
    },
    {
      "cell_type": "markdown",
      "source": [
        "값 비교"
      ],
      "metadata": {
        "id": "abJOgJ6BpAcQ"
      }
    },
    {
      "cell_type": "code",
      "source": [
        "range(5) == range(0,5)"
      ],
      "metadata": {
        "colab": {
          "base_uri": "https://localhost:8080/"
        },
        "id": "nP6MCPsmoyt5",
        "outputId": "287895ad-ccdc-44c8-c8c9-1a1d10dd5827"
      },
      "execution_count": 6,
      "outputs": [
        {
          "output_type": "execute_result",
          "data": {
            "text/plain": [
              "True"
            ]
          },
          "metadata": {},
          "execution_count": 6
        }
      ]
    },
    {
      "cell_type": "markdown",
      "source": [
        "### 조건제시법\n",
        "* for 문과 if 문을 길게 안쓰고 한줄로 할 수 있음\n",
        "* [식 반복문 조건문] 형태, 괄호는 자료형에 맞게 사용"
      ],
      "metadata": {
        "id": "BNzy_0UqpDmo"
      }
    },
    {
      "cell_type": "markdown",
      "source": [
        "**리스트 조건제시법**\n",
        "\n",
        "ex) 1이상 10이하의 짝수를 제곱하여 리스트에 넣는다. - for문"
      ],
      "metadata": {
        "id": "GXTv8PCKsHu_"
      }
    },
    {
      "cell_type": "code",
      "source": [
        "even = []\n",
        "for i in range(11):\n",
        "  if i%2 == 0:\n",
        "    even.append(i**2)\n",
        "\n",
        "even"
      ],
      "metadata": {
        "colab": {
          "base_uri": "https://localhost:8080/"
        },
        "id": "kwcipZTzo5eY",
        "outputId": "58152ed5-3fba-4432-d9a4-48db7f52257d"
      },
      "execution_count": 7,
      "outputs": [
        {
          "output_type": "execute_result",
          "data": {
            "text/plain": [
              "[0, 4, 16, 36, 64, 100]"
            ]
          },
          "metadata": {},
          "execution_count": 7
        }
      ]
    },
    {
      "cell_type": "markdown",
      "source": [
        "위 예제를 조건제시법으로"
      ],
      "metadata": {
        "id": "1ijpF5FUra_f"
      }
    },
    {
      "cell_type": "code",
      "source": [
        "even = [i**2 for i in range(11) if i%2 == 0]\n",
        "even"
      ],
      "metadata": {
        "colab": {
          "base_uri": "https://localhost:8080/"
        },
        "id": "24vfn6F8rZHo",
        "outputId": "3e500bf5-3f56-48c2-c84b-cf9750c9f856"
      },
      "execution_count": 10,
      "outputs": [
        {
          "output_type": "execute_result",
          "data": {
            "text/plain": [
              "[0, 4, 16, 36, 64, 100]"
            ]
          },
          "metadata": {},
          "execution_count": 10
        }
      ]
    },
    {
      "cell_type": "markdown",
      "source": [
        "**집합 조건제시법**\n",
        "\n",
        "ex) 문자열을 입력받아 각 단어의 길이를 집합에 넣는다. - for문"
      ],
      "metadata": {
        "id": "1H4oqs_zsLdH"
      }
    },
    {
      "cell_type": "code",
      "source": [
        "a = input()\n",
        "strlen = set()\n",
        "b = a.split()\n",
        "for i in b:\n",
        "  strlen.add(len(i))\n",
        "\n",
        "strlen"
      ],
      "metadata": {
        "colab": {
          "base_uri": "https://localhost:8080/"
        },
        "id": "-CKb7_mlrl3I",
        "outputId": "3c0bba70-1d49-4304-cb41-4d860e1d42b2"
      },
      "execution_count": 12,
      "outputs": [
        {
          "name": "stdout",
          "output_type": "stream",
          "text": [
            "hello hi how are you\n"
          ]
        },
        {
          "output_type": "execute_result",
          "data": {
            "text/plain": [
              "{2, 3, 5}"
            ]
          },
          "metadata": {},
          "execution_count": 12
        }
      ]
    },
    {
      "cell_type": "markdown",
      "source": [
        "조건제시법으로"
      ],
      "metadata": {
        "id": "ELORL_ZdtII_"
      }
    },
    {
      "cell_type": "code",
      "source": [
        "a = input()\n",
        "strlen = {len(i) for i in a.split()}\n",
        "strlen"
      ],
      "metadata": {
        "colab": {
          "base_uri": "https://localhost:8080/"
        },
        "id": "Ll_TdXSWsp2J",
        "outputId": "a5dead04-4727-47b7-9be7-c5128495938a"
      },
      "execution_count": 14,
      "outputs": [
        {
          "name": "stdout",
          "output_type": "stream",
          "text": [
            "hi hello how are you\n"
          ]
        },
        {
          "output_type": "execute_result",
          "data": {
            "text/plain": [
              "{2, 3, 5}"
            ]
          },
          "metadata": {},
          "execution_count": 14
        }
      ]
    },
    {
      "cell_type": "markdown",
      "source": [
        "**사전 조건제시법**\n",
        "\n",
        "ex) 문자열을 입력받아 각 단어를 키, 단어의 길이를 사전에 넣는다. - for문"
      ],
      "metadata": {
        "id": "fN5qRgkGtt5f"
      }
    },
    {
      "cell_type": "code",
      "source": [
        "a = input()\n",
        "b = a.split()\n",
        "dic = {}\n",
        "for i in b:\n",
        "  dic[i] = len(i)\n",
        "\n",
        "dic"
      ],
      "metadata": {
        "colab": {
          "base_uri": "https://localhost:8080/"
        },
        "id": "BJAXzMMltX3Y",
        "outputId": "cf8c3e71-cf6d-4be0-a9ec-733abc72fce1"
      },
      "execution_count": 15,
      "outputs": [
        {
          "name": "stdout",
          "output_type": "stream",
          "text": [
            "hi hello how are you\n"
          ]
        },
        {
          "output_type": "execute_result",
          "data": {
            "text/plain": [
              "{'are': 3, 'hello': 5, 'hi': 2, 'how': 3, 'you': 3}"
            ]
          },
          "metadata": {},
          "execution_count": 15
        }
      ]
    },
    {
      "cell_type": "markdown",
      "source": [
        "조건제시법으로"
      ],
      "metadata": {
        "id": "RWTJKDxtuO9u"
      }
    },
    {
      "cell_type": "code",
      "source": [
        "a = input()\n",
        "dic = {i : len(i) for i in a.split()}\n",
        "dic"
      ],
      "metadata": {
        "colab": {
          "base_uri": "https://localhost:8080/"
        },
        "id": "2btu0915uLgQ",
        "outputId": "bfc70c49-4b66-489c-f7d7-f09e9041deb6"
      },
      "execution_count": 17,
      "outputs": [
        {
          "name": "stdout",
          "output_type": "stream",
          "text": [
            "hi hello how are you\n"
          ]
        },
        {
          "output_type": "execute_result",
          "data": {
            "text/plain": [
              "{'are': 3, 'hello': 5, 'hi': 2, 'how': 3, 'you': 3}"
            ]
          },
          "metadata": {},
          "execution_count": 17
        }
      ]
    }
  ]
}