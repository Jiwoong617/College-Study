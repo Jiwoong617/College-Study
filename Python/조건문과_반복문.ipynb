{
  "nbformat": 4,
  "nbformat_minor": 0,
  "metadata": {
    "colab": {
      "name": "조건문과 반복문.ipynb",
      "provenance": [],
      "collapsed_sections": []
    },
    "kernelspec": {
      "name": "python3",
      "display_name": "Python 3"
    },
    "language_info": {
      "name": "python"
    }
  },
  "cells": [
    {
      "cell_type": "markdown",
      "source": [
        "### 조건문\n",
        "+ 조건문의 논리식 마지막에는 :(콜론)을 붙여주어야된다.\n",
        "+ else if 가 아닌 elif라고 작성한다."
      ],
      "metadata": {
        "id": "-orEo-YugJ2A"
      }
    },
    {
      "cell_type": "markdown",
      "source": [
        "파이썬은 **0 < a and a < 10** 을 표현할 때 바로 **0 < x < 10** 으로 표현할 수 있다."
      ],
      "metadata": {
        "id": "f2Oy1Th3iJi3"
      }
    },
    {
      "cell_type": "code",
      "execution_count": 6,
      "metadata": {
        "colab": {
          "base_uri": "https://localhost:8080/"
        },
        "id": "dFNImLQZfS8f",
        "outputId": "62a13d58-d2ac-497a-b833-eb5d65c62a41"
      },
      "outputs": [
        {
          "output_type": "stream",
          "name": "stdout",
          "text": [
            "숫자 입력 : 5\n",
            "a는 0~10\n"
          ]
        }
      ],
      "source": [
        "a = int(input(\"숫자 입력 : \"))\n",
        "if a < 0:\n",
        "  print(\"a는 음수\")\n",
        "elif a == 0 :\n",
        "  print(\"a는 0\")\n",
        "elif 0 < a <10 :\n",
        "  print(\"a는 0~10\")\n",
        "else :\n",
        "  print(\"a 는 10 이상\")"
      ]
    },
    {
      "cell_type": "markdown",
      "source": [
        "**조건문을 이용한 삼항연산자**\n",
        "* (참일 경우) if (논리식) else (거짓일 경우) 형태로 구성"
      ],
      "metadata": {
        "id": "hw_AA9LpinrP"
      }
    },
    {
      "cell_type": "code",
      "source": [
        "b = int(input(\"양수 입력 : \"))\n",
        "oddeven = \"짝수\" if b%2 == 0 else \"홀수\"\n",
        "print(oddeven)"
      ],
      "metadata": {
        "colab": {
          "base_uri": "https://localhost:8080/"
        },
        "id": "6fUm3Caxhkjf",
        "outputId": "d101d230-9bd7-4294-a82c-ec1ad55c1764"
      },
      "execution_count": 9,
      "outputs": [
        {
          "output_type": "stream",
          "name": "stdout",
          "text": [
            "양수 입력 : 5\n",
            "홀수\n"
          ]
        }
      ]
    },
    {
      "cell_type": "markdown",
      "source": [
        "### 반복문"
      ],
      "metadata": {
        "id": "ZLy_oYn9jdeO"
      }
    },
    {
      "cell_type": "markdown",
      "source": [
        "**while 반복문**\n",
        "\n",
        "    while 부울식 :\n",
        "         명령문\n",
        "형식으로 구성"
      ],
      "metadata": {
        "id": "JH-zJqYcjsie"
      }
    },
    {
      "cell_type": "code",
      "source": [
        "a = 5\n",
        "while a != 0 :\n",
        "  print(a,end=' ')\n",
        "  a -= 1 # a= a-1과 같음"
      ],
      "metadata": {
        "colab": {
          "base_uri": "https://localhost:8080/"
        },
        "id": "gaQp1gNJjXLv",
        "outputId": "371d5a8a-11da-46b7-84b0-5b686585d2d3"
      },
      "execution_count": 12,
      "outputs": [
        {
          "output_type": "stream",
          "name": "stdout",
          "text": [
            "5 4 3 2 1 "
          ]
        }
      ]
    },
    {
      "cell_type": "markdown",
      "source": [
        "**for 반복문**\n",
        "\n",
        "    for 변수 in 범위 :\n",
        "       명령문\n",
        "형식으로 구성\n",
        "+ range()범위값을 지정하면 초기값은 0으로 시작\n",
        "* 연속된 형태의 객체(iterable)는 객체 자체를 범위로 넣을 수 있다.\n",
        "  + ex)문자열, 리스트, 튜플 등등\n",
        "* enumerate 라는 것을 이용하여 값과 순서를 둘다 한번에 돌릴 수 있음"
      ],
      "metadata": {
        "id": "87OXX4Zbkyo3"
      }
    },
    {
      "cell_type": "code",
      "source": [
        "for i in range(5):\n",
        "  print(i, end=' ')"
      ],
      "metadata": {
        "colab": {
          "base_uri": "https://localhost:8080/"
        },
        "id": "TuOy91Joj3RP",
        "outputId": "c697b4ea-9df8-4da3-80dc-f111189c1dc9"
      },
      "execution_count": 14,
      "outputs": [
        {
          "output_type": "stream",
          "name": "stdout",
          "text": [
            "0 1 2 3 4 "
          ]
        }
      ]
    },
    {
      "cell_type": "markdown",
      "source": [
        "연속된 자료형의 for 문"
      ],
      "metadata": {
        "id": "PvM6vTDVnEe1"
      }
    },
    {
      "cell_type": "code",
      "source": [
        "hello = \"Hello!\"\n",
        "for i in hello: #i가 hello안의 값 하나하나 돌아감\n",
        "  print(i, end=' ')\n",
        "\n",
        "print()\n",
        "\n",
        "for j in range(len(hello)): #j는 hello안 값의 갯수 만큼 돌아감\n",
        "  print(j, end=' ')"
      ],
      "metadata": {
        "colab": {
          "base_uri": "https://localhost:8080/"
        },
        "id": "KA2RnLwjl6GG",
        "outputId": "e4ee7853-29ae-4540-8ece-9121603fd1c8"
      },
      "execution_count": 20,
      "outputs": [
        {
          "output_type": "stream",
          "name": "stdout",
          "text": [
            "H e l l o ! \n",
            "0 1 2 3 4 5 "
          ]
        }
      ]
    },
    {
      "cell_type": "markdown",
      "source": [
        "enumerate 활용\n",
        "* enumerate는 인덱스와 값으로 이루어진 튜플을 만들어준다.\n",
        "* 튜플형태를 풀어주기 위해선 인자를 2개 받아 풀어주어야된다."
      ],
      "metadata": {
        "id": "0EWN9mxcnmLW"
      }
    },
    {
      "cell_type": "code",
      "source": [
        "hi = \"hello\"\n",
        "for i in enumerate(hi):\n",
        "  print(i)"
      ],
      "metadata": {
        "colab": {
          "base_uri": "https://localhost:8080/"
        },
        "id": "RbtYXiz0oyCE",
        "outputId": "ac386db2-c6a9-4d58-8438-38731570cf47"
      },
      "execution_count": 26,
      "outputs": [
        {
          "output_type": "stream",
          "name": "stdout",
          "text": [
            "(0, 'h')\n",
            "(1, 'e')\n",
            "(2, 'l')\n",
            "(3, 'l')\n",
            "(4, 'o')\n"
          ]
        }
      ]
    },
    {
      "cell_type": "markdown",
      "source": [
        "풀어주기 (unpacking)"
      ],
      "metadata": {
        "id": "y_mO5K2FouXu"
      }
    },
    {
      "cell_type": "code",
      "source": [
        "py = \"Python!\"\n",
        "for i, j in enumerate(py): # i는 인덱스, j는 값\n",
        "  print(i, j)"
      ],
      "metadata": {
        "colab": {
          "base_uri": "https://localhost:8080/"
        },
        "id": "TDmeS8CsnBXP",
        "outputId": "c307d704-840b-495c-922e-7dc3f83d4483"
      },
      "execution_count": 25,
      "outputs": [
        {
          "output_type": "stream",
          "name": "stdout",
          "text": [
            "0 P\n",
            "1 y\n",
            "2 t\n",
            "3 h\n",
            "4 o\n",
            "5 n\n",
            "6 !\n"
          ]
        }
      ]
    },
    {
      "cell_type": "markdown",
      "source": [
        "enumerate 시작 인덱스 지정"
      ],
      "metadata": {
        "id": "jpVqzmlSoY0F"
      }
    },
    {
      "cell_type": "code",
      "source": [
        "py2 = \"Bidan Snake\"\n",
        "for i, j in enumerate(py, start= 1): # 시작인덱스 지정\n",
        "  print(i, j)"
      ],
      "metadata": {
        "colab": {
          "base_uri": "https://localhost:8080/"
        },
        "id": "wHxKHIngoI6H",
        "outputId": "426a435b-4b8c-4a41-cbb5-6eda65b8a8c7"
      },
      "execution_count": 24,
      "outputs": [
        {
          "output_type": "stream",
          "name": "stdout",
          "text": [
            "1 P\n",
            "2 y\n",
            "3 t\n",
            "4 h\n",
            "5 o\n",
            "6 n\n",
            "7 !\n"
          ]
        }
      ]
    },
    {
      "cell_type": "markdown",
      "source": [
        "**pass, continue, break**\n",
        "+ pass : 실행할 코드가 없는 것으로 다음 행동을 계속해서 진행\n",
        "+ continue : 밑의 코드를 무시하고 다음 순번 반복을 진행\n",
        "+ breake : 반복문 탈출"
      ],
      "metadata": {
        "id": "kTYtjJlbo9fe"
      }
    },
    {
      "cell_type": "markdown",
      "source": [
        "pass\n",
        "+ 코드에 영향을 끼치지 않음\n",
        "+ 동작 확인을 위해서, 오류 발생을 방지하기 위해 사용"
      ],
      "metadata": {
        "id": "YeE6Z4zQpbyW"
      }
    },
    {
      "cell_type": "code",
      "source": [
        "for i in range(10):\n",
        "  pass\n",
        "  print(i, end=' ')"
      ],
      "metadata": {
        "colab": {
          "base_uri": "https://localhost:8080/"
        },
        "id": "QQeClbNQoXPm",
        "outputId": "f4eb562f-8b0e-44e0-e007-8b9ef8262e12"
      },
      "execution_count": 27,
      "outputs": [
        {
          "output_type": "stream",
          "name": "stdout",
          "text": [
            "0 1 2 3 4 5 6 7 8 9 "
          ]
        }
      ]
    },
    {
      "cell_type": "markdown",
      "source": [
        "continue와 break"
      ],
      "metadata": {
        "id": "HsTqx736pu8l"
      }
    },
    {
      "cell_type": "code",
      "source": [
        "for i in range(10):\n",
        "  if i <= 5: \n",
        "    continue      #i 가 5 이하일 경우 다음순번으로\n",
        "  elif i > 7:\n",
        "    break         #i 가 7보다 클경우 탈출\n",
        "  print(i)\n",
        "# 따라서 출력되는건 6과 7뿐"
      ],
      "metadata": {
        "colab": {
          "base_uri": "https://localhost:8080/"
        },
        "id": "XrkbH-S6pigO",
        "outputId": "23f83c94-3b4b-4719-8e63-60eb8e1f9793"
      },
      "execution_count": 31,
      "outputs": [
        {
          "output_type": "stream",
          "name": "stdout",
          "text": [
            "6\n",
            "7\n"
          ]
        }
      ]
    },
    {
      "cell_type": "code",
      "source": [
        ""
      ],
      "metadata": {
        "id": "qjpihU9mqWFV"
      },
      "execution_count": null,
      "outputs": []
    }
  ]
}