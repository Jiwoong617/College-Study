{
  "nbformat": 4,
  "nbformat_minor": 0,
  "metadata": {
    "colab": {
      "name": "자료형-집합.ipynb",
      "provenance": [],
      "collapsed_sections": []
    },
    "kernelspec": {
      "name": "python3",
      "display_name": "Python 3"
    },
    "language_info": {
      "name": "python"
    }
  },
  "cells": [
    {
      "cell_type": "markdown",
      "source": [
        "### 집합\n",
        "* 집합은 중복을 허용하지 않음\n",
        "* 항목들 사이의 순서가 무시되어서 인덱싱이나 슬라이싱을 지원하지 않음\n",
        "* { } 사이에 들어감"
      ],
      "metadata": {
        "id": "02Eb5ZCu5iWw"
      }
    },
    {
      "cell_type": "code",
      "source": [
        "a = {1,2,2,3,4,5}\n",
        "a # 중복이 사라진 모습"
      ],
      "metadata": {
        "colab": {
          "base_uri": "https://localhost:8080/"
        },
        "id": "wF0vS1GF96Ll",
        "outputId": "b25030f4-5f54-43b8-ced2-0adca5e9b107"
      },
      "execution_count": 5,
      "outputs": [
        {
          "output_type": "execute_result",
          "data": {
            "text/plain": [
              "{1, 2, 3, 4, 5}"
            ]
          },
          "metadata": {},
          "execution_count": 5
        }
      ]
    },
    {
      "cell_type": "code",
      "source": [
        "# 리스트의 중복값을 제거 하고 싶을 때\n",
        "# 집합으로 형변환 후 다시 리스트로 형변환 하면 편함\n",
        "b = [1,1,2,2,2,3,3,3,3,4,4,5,5]\n",
        "b = list(set(b))\n",
        "b"
      ],
      "metadata": {
        "colab": {
          "base_uri": "https://localhost:8080/"
        },
        "id": "dODJM_-b-Co9",
        "outputId": "279a991f-7813-4086-b134-c45229bd8fe8"
      },
      "execution_count": 7,
      "outputs": [
        {
          "output_type": "execute_result",
          "data": {
            "text/plain": [
              "[1, 2, 3, 4, 5]"
            ]
          },
          "metadata": {},
          "execution_count": 7
        }
      ]
    },
    {
      "cell_type": "markdown",
      "source": [
        "공집합 생성"
      ],
      "metadata": {
        "id": "sZAY7xiM9m2_"
      }
    },
    {
      "cell_type": "code",
      "execution_count": 2,
      "metadata": {
        "colab": {
          "base_uri": "https://localhost:8080/"
        },
        "id": "SjXl18Ft4kbZ",
        "outputId": "430baee3-0a82-46aa-fa87-b6735b13e9ec"
      },
      "outputs": [
        {
          "output_type": "execute_result",
          "data": {
            "text/plain": [
              "set"
            ]
          },
          "metadata": {},
          "execution_count": 2
        }
      ],
      "source": [
        "a = set()  # {} 사용시 사전이 됨\n",
        "type(a)"
      ]
    },
    {
      "cell_type": "markdown",
      "source": [
        "**집합 연산**"
      ],
      "metadata": {
        "id": "GI26m_9594Hn"
      }
    },
    {
      "cell_type": "markdown",
      "source": [
        "in 연산자"
      ],
      "metadata": {
        "id": "o3yRHJsk-ZuB"
      }
    },
    {
      "cell_type": "code",
      "source": [
        "1 in {1,2,3,4,5}"
      ],
      "metadata": {
        "colab": {
          "base_uri": "https://localhost:8080/"
        },
        "id": "T6vHRRbK9r-e",
        "outputId": "0e3613a3-4198-4f10-ba3b-58e4a4a4c6b0"
      },
      "execution_count": 9,
      "outputs": [
        {
          "output_type": "execute_result",
          "data": {
            "text/plain": [
              "True"
            ]
          },
          "metadata": {},
          "execution_count": 9
        }
      ]
    },
    {
      "cell_type": "code",
      "source": [
        "6 not in {1,2,3,4,5}"
      ],
      "metadata": {
        "colab": {
          "base_uri": "https://localhost:8080/"
        },
        "id": "HQLMcWQA-cNH",
        "outputId": "bce9d77d-89c4-4484-cc26-74dca3d2ca48"
      },
      "execution_count": 10,
      "outputs": [
        {
          "output_type": "execute_result",
          "data": {
            "text/plain": [
              "True"
            ]
          },
          "metadata": {},
          "execution_count": 10
        }
      ]
    },
    {
      "cell_type": "markdown",
      "source": [
        "합집합"
      ],
      "metadata": {
        "id": "A3LrtPIo-uoV"
      }
    },
    {
      "cell_type": "code",
      "source": [
        "{1, 2, 3, 4, 5} | {3, 4, 5, 6, 7,}"
      ],
      "metadata": {
        "colab": {
          "base_uri": "https://localhost:8080/"
        },
        "id": "1OKgZpzB-jWq",
        "outputId": "ea709be7-b2ca-4b64-a3ba-5c25ed41466b"
      },
      "execution_count": 11,
      "outputs": [
        {
          "output_type": "execute_result",
          "data": {
            "text/plain": [
              "{1, 2, 3, 4, 5, 6, 7}"
            ]
          },
          "metadata": {},
          "execution_count": 11
        }
      ]
    },
    {
      "cell_type": "markdown",
      "source": [
        "교집합"
      ],
      "metadata": {
        "id": "1k8XKDuc-67J"
      }
    },
    {
      "cell_type": "code",
      "source": [
        "{1, 2, 3, 4, 5} & {3, 4, 5, 6, 7,}"
      ],
      "metadata": {
        "colab": {
          "base_uri": "https://localhost:8080/"
        },
        "id": "-XgHbKvx-5--",
        "outputId": "b925d355-ebd6-4cbc-f4c3-0668ffeba76a"
      },
      "execution_count": 12,
      "outputs": [
        {
          "output_type": "execute_result",
          "data": {
            "text/plain": [
              "{3, 4, 5}"
            ]
          },
          "metadata": {},
          "execution_count": 12
        }
      ]
    },
    {
      "cell_type": "markdown",
      "source": [
        "차집합"
      ],
      "metadata": {
        "id": "IJ_vUx6A-9SL"
      }
    },
    {
      "cell_type": "code",
      "source": [
        "{1, 2, 3, 4, 5} - {3, 4, 5, 6, 7,}"
      ],
      "metadata": {
        "colab": {
          "base_uri": "https://localhost:8080/"
        },
        "id": "kFs1OKxD-8tL",
        "outputId": "36a267fd-b686-4774-f263-efe04799c5b5"
      },
      "execution_count": 13,
      "outputs": [
        {
          "output_type": "execute_result",
          "data": {
            "text/plain": [
              "{1, 2}"
            ]
          },
          "metadata": {},
          "execution_count": 13
        }
      ]
    },
    {
      "cell_type": "markdown",
      "source": [
        "부분집합의 여부"
      ],
      "metadata": {
        "id": "9AZjr6SO_AUt"
      }
    },
    {
      "cell_type": "code",
      "source": [
        "{1, 2, 3, 4, 5} >= {3, 4, 5}"
      ],
      "metadata": {
        "colab": {
          "base_uri": "https://localhost:8080/"
        },
        "id": "BG4BZTXI-_Xg",
        "outputId": "69b19a49-6cdd-4a0c-a85f-3b949dea6a7d"
      },
      "execution_count": 15,
      "outputs": [
        {
          "output_type": "execute_result",
          "data": {
            "text/plain": [
              "True"
            ]
          },
          "metadata": {},
          "execution_count": 15
        }
      ]
    },
    {
      "cell_type": "code",
      "source": [
        "{1, 2, 3} <= {3, 4, 5, 6, 7,}"
      ],
      "metadata": {
        "colab": {
          "base_uri": "https://localhost:8080/"
        },
        "id": "VrfwVFzO_GIM",
        "outputId": "a6a3147f-decb-4a63-b8da-b82d656b568d"
      },
      "execution_count": 16,
      "outputs": [
        {
          "output_type": "execute_result",
          "data": {
            "text/plain": [
              "False"
            ]
          },
          "metadata": {},
          "execution_count": 16
        }
      ]
    },
    {
      "cell_type": "markdown",
      "source": [
        "len()"
      ],
      "metadata": {
        "id": "8Z8ttEJ7_Pkf"
      }
    },
    {
      "cell_type": "code",
      "source": [
        "len({1,2,3,4,5})"
      ],
      "metadata": {
        "colab": {
          "base_uri": "https://localhost:8080/"
        },
        "id": "tyzE_Os1_NNA",
        "outputId": "7bba2671-5a67-4a3f-8e10-b9c18a8f6c8c"
      },
      "execution_count": 17,
      "outputs": [
        {
          "output_type": "execute_result",
          "data": {
            "text/plain": [
              "5"
            ]
          },
          "metadata": {},
          "execution_count": 17
        }
      ]
    },
    {
      "cell_type": "markdown",
      "source": [
        "min()/max()"
      ],
      "metadata": {
        "id": "fWoTMq5J_T-L"
      }
    },
    {
      "cell_type": "code",
      "source": [
        "min({1,3,5,7,9})"
      ],
      "metadata": {
        "colab": {
          "base_uri": "https://localhost:8080/"
        },
        "id": "Ep6QBuIN_S-a",
        "outputId": "3fc3b7fc-8549-4e23-f067-c7748be052e7"
      },
      "execution_count": 18,
      "outputs": [
        {
          "output_type": "execute_result",
          "data": {
            "text/plain": [
              "1"
            ]
          },
          "metadata": {},
          "execution_count": 18
        }
      ]
    },
    {
      "cell_type": "code",
      "source": [
        "max({1,3,5,7,9})"
      ],
      "metadata": {
        "colab": {
          "base_uri": "https://localhost:8080/"
        },
        "id": "FmctKB8i_at_",
        "outputId": "7017f9c6-9b24-4447-b32b-af99e28cd945"
      },
      "execution_count": 19,
      "outputs": [
        {
          "output_type": "execute_result",
          "data": {
            "text/plain": [
              "9"
            ]
          },
          "metadata": {},
          "execution_count": 19
        }
      ]
    },
    {
      "cell_type": "markdown",
      "source": [
        "**집합 메서드**"
      ],
      "metadata": {
        "id": "8fxxzRp9_dr8"
      }
    },
    {
      "cell_type": "code",
      "source": [
        "x = {1,2,3,4,5}\n",
        "y = {3,4,5,6,7}\n",
        "z = {5,6,7,8,9}"
      ],
      "metadata": {
        "id": "nqSdjhrT_cn5"
      },
      "execution_count": 46,
      "outputs": []
    },
    {
      "cell_type": "markdown",
      "source": [
        ".union() : 합집합 반환"
      ],
      "metadata": {
        "id": "brbQg17I_zSZ"
      }
    },
    {
      "cell_type": "code",
      "source": [
        "x.union(z)"
      ],
      "metadata": {
        "colab": {
          "base_uri": "https://localhost:8080/"
        },
        "id": "27PJwWHf_yj1",
        "outputId": "44f8e89a-fee6-4e72-e9dc-d1983eee228b"
      },
      "execution_count": 23,
      "outputs": [
        {
          "output_type": "execute_result",
          "data": {
            "text/plain": [
              "{1, 2, 3, 4, 5, 6, 7, 8, 9}"
            ]
          },
          "metadata": {},
          "execution_count": 23
        }
      ]
    },
    {
      "cell_type": "code",
      "source": [
        "x.union(y,z)"
      ],
      "metadata": {
        "colab": {
          "base_uri": "https://localhost:8080/"
        },
        "id": "IkNc7mmu_4ud",
        "outputId": "498a662b-cfa0-48ee-ccf8-0589560e79f3"
      },
      "execution_count": 25,
      "outputs": [
        {
          "output_type": "execute_result",
          "data": {
            "text/plain": [
              "{1, 2, 3, 4, 5, 6, 7, 8, 9}"
            ]
          },
          "metadata": {},
          "execution_count": 25
        }
      ]
    },
    {
      "cell_type": "markdown",
      "source": [
        ".intersection() : 교집합 반환"
      ],
      "metadata": {
        "id": "4gU9o8d0ACTm"
      }
    },
    {
      "cell_type": "code",
      "source": [
        "x.intersection(y)"
      ],
      "metadata": {
        "colab": {
          "base_uri": "https://localhost:8080/"
        },
        "id": "M5O33HFX__cF",
        "outputId": "dbbfed3e-6b35-4c36-e796-1b9e1d897af4"
      },
      "execution_count": 27,
      "outputs": [
        {
          "output_type": "execute_result",
          "data": {
            "text/plain": [
              "{3, 4, 5}"
            ]
          },
          "metadata": {},
          "execution_count": 27
        }
      ]
    },
    {
      "cell_type": "code",
      "source": [
        "x.intersection(y,z)"
      ],
      "metadata": {
        "colab": {
          "base_uri": "https://localhost:8080/"
        },
        "id": "EV0KHKdYAHXo",
        "outputId": "264e10a9-fa51-454d-cdf0-e5b2b0144437"
      },
      "execution_count": 28,
      "outputs": [
        {
          "output_type": "execute_result",
          "data": {
            "text/plain": [
              "{5}"
            ]
          },
          "metadata": {},
          "execution_count": 28
        }
      ]
    },
    {
      "cell_type": "markdown",
      "source": [
        ".difference() : 차집합 반환"
      ],
      "metadata": {
        "id": "22-B_mJtAK6K"
      }
    },
    {
      "cell_type": "code",
      "source": [
        "x.difference(y)"
      ],
      "metadata": {
        "colab": {
          "base_uri": "https://localhost:8080/"
        },
        "id": "uRPwLaloAKVP",
        "outputId": "3f9f4487-a9ca-4239-94d9-85eed0b2f807"
      },
      "execution_count": 30,
      "outputs": [
        {
          "output_type": "execute_result",
          "data": {
            "text/plain": [
              "{1, 2}"
            ]
          },
          "metadata": {},
          "execution_count": 30
        }
      ]
    },
    {
      "cell_type": "code",
      "source": [
        "x.difference(y,z)"
      ],
      "metadata": {
        "colab": {
          "base_uri": "https://localhost:8080/"
        },
        "id": "DCJIKP_EARBO",
        "outputId": "a34de448-1108-44ca-c24d-02418d0005d7"
      },
      "execution_count": 31,
      "outputs": [
        {
          "output_type": "execute_result",
          "data": {
            "text/plain": [
              "{1, 2}"
            ]
          },
          "metadata": {},
          "execution_count": 31
        }
      ]
    },
    {
      "cell_type": "markdown",
      "source": [
        ".issubset() : 부분집합 여부를 판단해서 반환"
      ],
      "metadata": {
        "id": "Fo74T5xnAXsL"
      }
    },
    {
      "cell_type": "code",
      "source": [
        "x.issubset(y)"
      ],
      "metadata": {
        "colab": {
          "base_uri": "https://localhost:8080/"
        },
        "id": "e1P41_dHAaMK",
        "outputId": "bfcf25ae-a54c-49e2-c479-adf92c847728"
      },
      "execution_count": 33,
      "outputs": [
        {
          "output_type": "execute_result",
          "data": {
            "text/plain": [
              "False"
            ]
          },
          "metadata": {},
          "execution_count": 33
        }
      ]
    },
    {
      "cell_type": "markdown",
      "source": [
        ".add() : 항목추가, 반환값 None"
      ],
      "metadata": {
        "id": "MTb7cNsqAmpf"
      }
    },
    {
      "cell_type": "code",
      "source": [
        "x.add(6)\n",
        "x"
      ],
      "metadata": {
        "colab": {
          "base_uri": "https://localhost:8080/"
        },
        "id": "CUYK_X5MAmIO",
        "outputId": "34bd1f31-f21c-4653-a2cb-701e955f2fa4"
      },
      "execution_count": 38,
      "outputs": [
        {
          "output_type": "execute_result",
          "data": {
            "text/plain": [
              "{1, 2, 3, 4, 5, 6}"
            ]
          },
          "metadata": {},
          "execution_count": 38
        }
      ]
    },
    {
      "cell_type": "markdown",
      "source": [
        ".remove() : 항목 제거, 반환값 None"
      ],
      "metadata": {
        "id": "JW8dAvzjAwnM"
      }
    },
    {
      "cell_type": "code",
      "source": [
        "x.remove(6)\n",
        "x"
      ],
      "metadata": {
        "colab": {
          "base_uri": "https://localhost:8080/"
        },
        "id": "5Xi51wMEAuCQ",
        "outputId": "13e9d86e-150b-4a68-f2a1-83ab9d843614"
      },
      "execution_count": 39,
      "outputs": [
        {
          "output_type": "execute_result",
          "data": {
            "text/plain": [
              "{1, 2, 3, 4, 5}"
            ]
          },
          "metadata": {},
          "execution_count": 39
        }
      ]
    },
    {
      "cell_type": "markdown",
      "source": [
        ".discard() : 특정요소 안전하게 제거\n",
        "* 위 remove는 값이 없을 시 오류 발생하지만 discard는 아무일도 일어나지 않는다."
      ],
      "metadata": {
        "id": "XSqvuNn4BcbD"
      }
    },
    {
      "cell_type": "code",
      "source": [
        "x.discard(5)\n",
        "x"
      ],
      "metadata": {
        "colab": {
          "base_uri": "https://localhost:8080/"
        },
        "id": "vPtFdK5GBhpl",
        "outputId": "8efada9a-cfdb-4201-cab8-a94d6dace7ab"
      },
      "execution_count": 48,
      "outputs": [
        {
          "output_type": "execute_result",
          "data": {
            "text/plain": [
              "{1, 2, 3, 4}"
            ]
          },
          "metadata": {},
          "execution_count": 48
        }
      ]
    },
    {
      "cell_type": "markdown",
      "source": [
        ".pop() : 임의의 항목 삭제 후 삭제한 값 반환\n",
        "* 공집합은 값이 없으므로 사용시 오류\n",
        "* 맨 앞의 항목을 pop하는 것 같음\n",
        "* 하지만 순서가 없는 자료형 이기에 random한(임의의) 요소같음"
      ],
      "metadata": {
        "id": "hmF_eIPfA3Ty"
      }
    },
    {
      "cell_type": "code",
      "source": [
        "x.pop()\n",
        "x"
      ],
      "metadata": {
        "colab": {
          "base_uri": "https://localhost:8080/"
        },
        "id": "jf4sSxd2A1Ht",
        "outputId": "0de1c455-ac5b-40af-cb70-af95349399d8"
      },
      "execution_count": 45,
      "outputs": [
        {
          "output_type": "execute_result",
          "data": {
            "text/plain": [
              "{2, 3, 4, 5}"
            ]
          },
          "metadata": {},
          "execution_count": 45
        }
      ]
    },
    {
      "cell_type": "markdown",
      "source": [
        ".clear() : 모든항목 삭제, 반환값 None"
      ],
      "metadata": {
        "id": "TkTrNihIB8rw"
      }
    },
    {
      "cell_type": "code",
      "source": [
        "y.clear()\n",
        "y"
      ],
      "metadata": {
        "colab": {
          "base_uri": "https://localhost:8080/"
        },
        "id": "by_E1XHFBEia",
        "outputId": "6d180f0d-7272-4e50-89fc-19c883cae912"
      },
      "execution_count": 49,
      "outputs": [
        {
          "output_type": "execute_result",
          "data": {
            "text/plain": [
              "set()"
            ]
          },
          "metadata": {},
          "execution_count": 49
        }
      ]
    },
    {
      "cell_type": "markdown",
      "source": [
        ".update() : 여러개의 항목 한번에 추가, 반환값 None"
      ],
      "metadata": {
        "id": "GU6XNzvTCCol"
      }
    },
    {
      "cell_type": "code",
      "source": [
        "x.update({\"hi\", \"hello\"})\n",
        "x"
      ],
      "metadata": {
        "colab": {
          "base_uri": "https://localhost:8080/"
        },
        "id": "_UkEVh7ECB0V",
        "outputId": "928c2113-7b92-44a2-80e7-0c0f6f6c8c70"
      },
      "execution_count": 51,
      "outputs": [
        {
          "output_type": "execute_result",
          "data": {
            "text/plain": [
              "{1, 2, 3, 4, 'hello', 'hi'}"
            ]
          },
          "metadata": {},
          "execution_count": 51
        }
      ]
    }
  ]
}
