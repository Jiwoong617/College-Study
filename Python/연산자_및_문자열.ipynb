{
  "nbformat": 4,
  "nbformat_minor": 0,
  "metadata": {
    "colab": {
      "name": "연산자 및 문자열.ipynb",
      "provenance": [],
      "collapsed_sections": []
    },
    "kernelspec": {
      "name": "python3",
      "display_name": "Python 3"
    },
    "language_info": {
      "name": "python"
    }
  },
  "cells": [
    {
      "cell_type": "markdown",
      "source": [
        "### 파이썬의 기본 연산자"
      ],
      "metadata": {
        "id": "iBF33aokGFb9"
      }
    },
    {
      "cell_type": "code",
      "execution_count": 4,
      "metadata": {
        "colab": {
          "base_uri": "https://localhost:8080/"
        },
        "id": "vXshmrjEy1fm",
        "outputId": "b3e974c6-6d97-4af3-9504-59921c18c0f6"
      },
      "outputs": [
        {
          "output_type": "execute_result",
          "data": {
            "text/plain": [
              "1"
            ]
          },
          "metadata": {},
          "execution_count": 4
        }
      ],
      "source": [
        "1 + 2 # = 3 덧셈 \n",
        "1 - 2 # = -1 뺄셈\n",
        "2 * 3 # = 6 곱셈\n",
        "7 / 2 # = 3.5나눗셈\n",
        "2 ** 3 # == 2^3 = 8 제곱\n",
        "7 // 2 # = 3 나눗셈의 몫\n",
        "7 % 2 # = 1 나눗셈의 나머지"
      ]
    },
    {
      "cell_type": "markdown",
      "source": [
        "나눗셈, 몫, 나머지는 부동소수점이 인자로 사용되면 부동소수점으로 계산된다."
      ],
      "metadata": {
        "id": "PlVmaNGbIaHK"
      }
    },
    {
      "cell_type": "code",
      "source": [
        "7/3"
      ],
      "metadata": {
        "id": "skHQuLNJy3K_",
        "colab": {
          "base_uri": "https://localhost:8080/"
        },
        "outputId": "c37a0519-a1dc-4c57-b417-ecb44a853b89"
      },
      "execution_count": 5,
      "outputs": [
        {
          "output_type": "execute_result",
          "data": {
            "text/plain": [
              "2.3333333333333335"
            ]
          },
          "metadata": {},
          "execution_count": 5
        }
      ]
    },
    {
      "cell_type": "code",
      "source": [
        "print(10.0 / 2)\n",
        "print(10.0 // 2)\n",
        "print(10.0 % 2)"
      ],
      "metadata": {
        "colab": {
          "base_uri": "https://localhost:8080/"
        },
        "id": "KNx-Rdf0Hjb4",
        "outputId": "7e5ec8d1-0718-4f63-8257-4605c653f3f9"
      },
      "execution_count": 7,
      "outputs": [
        {
          "output_type": "stream",
          "name": "stdout",
          "text": [
            "5.0\n",
            "5.0\n",
            "0.0\n"
          ]
        }
      ]
    },
    {
      "cell_type": "markdown",
      "source": [
        "### 문자열 기본 연산\n",
        "\n",
        "문자열을 덧셈하여 계산하면 이어서 붙여준다."
      ],
      "metadata": {
        "id": "TzJH2kmAKFRP"
      }
    },
    {
      "cell_type": "code",
      "source": [
        "\"안녕하세요\"+\" 어서오세요\""
      ],
      "metadata": {
        "colab": {
          "base_uri": "https://localhost:8080/",
          "height": 35
        },
        "id": "R4uFNN1SKE4B",
        "outputId": "f821d60f-4ed2-4db4-a012-fc4408cd0d1b"
      },
      "execution_count": 22,
      "outputs": [
        {
          "output_type": "execute_result",
          "data": {
            "text/plain": [
              "'안녕하세요 어서오세요'"
            ],
            "application/vnd.google.colaboratory.intrinsic+json": {
              "type": "string"
            }
          },
          "metadata": {},
          "execution_count": 22
        }
      ]
    },
    {
      "cell_type": "markdown",
      "source": [
        "문자열을 양의정수와 곱셈하면 그 정수만큼 반복한다.(음의 정수, 0은 공백 출력)"
      ],
      "metadata": {
        "id": "tMNskAtSK9_y"
      }
    },
    {
      "cell_type": "code",
      "source": [
        "\"안녕하세요\"*3"
      ],
      "metadata": {
        "colab": {
          "base_uri": "https://localhost:8080/",
          "height": 35
        },
        "id": "9Uem-X4QLHpS",
        "outputId": "bd9c5ebc-a5d4-4ce0-8821-3e186c600ee3"
      },
      "execution_count": 23,
      "outputs": [
        {
          "output_type": "execute_result",
          "data": {
            "text/plain": [
              "'안녕하세요안녕하세요안녕하세요'"
            ],
            "application/vnd.google.colaboratory.intrinsic+json": {
              "type": "string"
            }
          },
          "metadata": {},
          "execution_count": 23
        }
      ]
    },
    {
      "cell_type": "code",
      "source": [
        "3*\"안녕하세요\""
      ],
      "metadata": {
        "colab": {
          "base_uri": "https://localhost:8080/",
          "height": 35
        },
        "id": "sc9Sqq9hLLQx",
        "outputId": "834ed7a8-85f1-4e40-842a-71d898ea8d74"
      },
      "execution_count": 24,
      "outputs": [
        {
          "output_type": "execute_result",
          "data": {
            "text/plain": [
              "'안녕하세요안녕하세요안녕하세요'"
            ],
            "application/vnd.google.colaboratory.intrinsic+json": {
              "type": "string"
            }
          },
          "metadata": {},
          "execution_count": 24
        }
      ]
    },
    {
      "cell_type": "code",
      "source": [
        "\"안녕하세요\" * -2"
      ],
      "metadata": {
        "colab": {
          "base_uri": "https://localhost:8080/",
          "height": 35
        },
        "id": "EReQjzuRLWo3",
        "outputId": "e064f26f-7fb1-497c-d880-ab58c4c9f4cf"
      },
      "execution_count": 25,
      "outputs": [
        {
          "output_type": "execute_result",
          "data": {
            "text/plain": [
              "''"
            ],
            "application/vnd.google.colaboratory.intrinsic+json": {
              "type": "string"
            }
          },
          "metadata": {},
          "execution_count": 25
        }
      ]
    },
    {
      "cell_type": "markdown",
      "source": [
        "### 이스케이프 문자\n",
        "\n",
        "\\을 사용하여 출력문 문자열 내에 작은따옴표, 큰따옴표, 백슬래쉬 탭 줄바꿈 등을 할수 있다.\n",
        "\n"
      ],
      "metadata": {
        "id": "41X9Wa6uLl4z"
      }
    },
    {
      "cell_type": "markdown",
      "source": [
        "* 문자열을 감싸는 따옴표와 다른 따옴표가 문자열 안에 들어오면 \\없이도 출력이 된다."
      ],
      "metadata": {
        "id": "BS1POhzfNW0M"
      }
    },
    {
      "cell_type": "code",
      "source": [
        "print(\"'안녕'하'세요\") #큰따옴표 안 작은따옴표"
      ],
      "metadata": {
        "colab": {
          "base_uri": "https://localhost:8080/"
        },
        "id": "M8WkhJWyNAjX",
        "outputId": "76441ac3-63dd-4a3c-b8e8-27f2cd998fc5"
      },
      "execution_count": 36,
      "outputs": [
        {
          "output_type": "stream",
          "name": "stdout",
          "text": [
            "'안녕'하'세요\n"
          ]
        }
      ]
    },
    {
      "cell_type": "code",
      "source": [
        "print('안녕\"하세\"여') #작은따옴표 안 큰따옴표"
      ],
      "metadata": {
        "colab": {
          "base_uri": "https://localhost:8080/"
        },
        "id": "nhQO8IqDNRQX",
        "outputId": "8d510d94-c4ef-4626-9da3-ee1c864d12e1"
      },
      "execution_count": 37,
      "outputs": [
        {
          "output_type": "stream",
          "name": "stdout",
          "text": [
            "안녕\"하세\"여\n"
          ]
        }
      ]
    },
    {
      "cell_type": "code",
      "source": [
        "print(\"안\\\\녕\\\"하\\t세\\n요\") #문자열 내 이스케이프 문자를 활용하여 줄바꿈, 탭 사용"
      ],
      "metadata": {
        "colab": {
          "base_uri": "https://localhost:8080/"
        },
        "id": "gnF-hQGANxv-",
        "outputId": "4305b6f9-2986-4a15-9d17-a2f5b7cba5c3"
      },
      "execution_count": 39,
      "outputs": [
        {
          "output_type": "stream",
          "name": "stdout",
          "text": [
            "안\\녕\"하\t세\n",
            "요\n"
          ]
        }
      ]
    },
    {
      "cell_type": "markdown",
      "source": [
        "### 문자열 포매팅\n",
        "\n",
        "문자열 포매팅에는 2가지 방법이있다.\n",
        "* format을 이용하는 방법\n",
        "* f-문자열을 사용하는 방법"
      ],
      "metadata": {
        "id": "V__LXbr8NV1f"
      }
    },
    {
      "cell_type": "markdown",
      "source": [
        "**format 이용**"
      ],
      "metadata": {
        "id": "WYB6Vb5lRsUN"
      }
    },
    {
      "cell_type": "code",
      "source": [
        "num = 10\n",
        "num2 = 17\n",
        "moonja = \"이 숫자는 {}과{}입니다.\".format(num,num2)\n",
        "print(moonja)"
      ],
      "metadata": {
        "colab": {
          "base_uri": "https://localhost:8080/"
        },
        "id": "-nrLVt11Rr8P",
        "outputId": "14580267-5ba8-48fe-b1dd-018008726ceb"
      },
      "execution_count": 45,
      "outputs": [
        {
          "output_type": "stream",
          "name": "stdout",
          "text": [
            "이 숫자는 10과17입니다.\n"
          ]
        }
      ]
    },
    {
      "cell_type": "markdown",
      "source": [
        "**f-문자열 사용**"
      ],
      "metadata": {
        "id": "nNBc4cY7Rsx4"
      }
    },
    {
      "cell_type": "code",
      "source": [
        "a = \"A입니다.\"\n",
        "b = 10\n",
        "moonja2 = f\"이 문자열은 숫자와 문자{b}와{a}\"\n",
        "print(moonja2)"
      ],
      "metadata": {
        "colab": {
          "base_uri": "https://localhost:8080/"
        },
        "id": "ZgYbgm__Rg2I",
        "outputId": "dabeb2a3-14c4-45af-dfcc-f653495a5982"
      },
      "execution_count": 48,
      "outputs": [
        {
          "output_type": "stream",
          "name": "stdout",
          "text": [
            "이 문자열은 숫자와 문자10와A입니다.\n"
          ]
        }
      ]
    },
    {
      "cell_type": "code",
      "source": [
        "a2 = \"abc\"\n",
        "b2 = 11\n",
        "print(\"안녕하세요. {}와 {}입니다\".format(a2, b2))\n",
        "print(f\"어서오세요. {a2}와 {b2}\")\n",
        "#출력문 안에서 사용이 가능하다"
      ],
      "metadata": {
        "colab": {
          "base_uri": "https://localhost:8080/"
        },
        "id": "jVH4E2pOS21B",
        "outputId": "23f206df-9e95-4826-dbd6-56b74ddccda7"
      },
      "execution_count": 50,
      "outputs": [
        {
          "output_type": "stream",
          "name": "stdout",
          "text": [
            "안녕하세요. abc와 11입니다\n",
            "어서오세요. abc와 11\n"
          ]
        }
      ]
    },
    {
      "cell_type": "markdown",
      "source": [
        "#### 비교 연산자"
      ],
      "metadata": {
        "id": "W0g_SFllI-QP"
      }
    },
    {
      "cell_type": "code",
      "source": [
        "a = 5\n",
        "b = 3"
      ],
      "metadata": {
        "id": "3_ISaSUTIuGK"
      },
      "execution_count": 18,
      "outputs": []
    },
    {
      "cell_type": "code",
      "source": [
        "a < b #크다"
      ],
      "metadata": {
        "colab": {
          "base_uri": "https://localhost:8080/"
        },
        "id": "WJCGjWfoJLR8",
        "outputId": "59e1e4c2-4d6b-47de-d39d-201096e792d5"
      },
      "execution_count": 17,
      "outputs": [
        {
          "output_type": "execute_result",
          "data": {
            "text/plain": [
              "False"
            ]
          },
          "metadata": {},
          "execution_count": 17
        }
      ]
    },
    {
      "cell_type": "code",
      "source": [
        "a <= b #크거나 같다"
      ],
      "metadata": {
        "colab": {
          "base_uri": "https://localhost:8080/"
        },
        "id": "LV26Y6eLJTZ6",
        "outputId": "627151ea-8204-4361-90fb-6ef25666e2ad"
      },
      "execution_count": 16,
      "outputs": [
        {
          "output_type": "execute_result",
          "data": {
            "text/plain": [
              "False"
            ]
          },
          "metadata": {},
          "execution_count": 16
        }
      ]
    },
    {
      "cell_type": "code",
      "source": [
        "a > b #작다"
      ],
      "metadata": {
        "colab": {
          "base_uri": "https://localhost:8080/"
        },
        "id": "adFYYd61JMmg",
        "outputId": "e6a0a18c-ed7e-4095-b2f1-c0fdbfb259f3"
      },
      "execution_count": 15,
      "outputs": [
        {
          "output_type": "execute_result",
          "data": {
            "text/plain": [
              "True"
            ]
          },
          "metadata": {},
          "execution_count": 15
        }
      ]
    },
    {
      "cell_type": "code",
      "source": [
        "a >= b #작거나 같다"
      ],
      "metadata": {
        "colab": {
          "base_uri": "https://localhost:8080/"
        },
        "id": "PhBsxHAdJP_D",
        "outputId": "1301874e-899f-470d-fe21-0046aeefd0ca"
      },
      "execution_count": 19,
      "outputs": [
        {
          "output_type": "execute_result",
          "data": {
            "text/plain": [
              "True"
            ]
          },
          "metadata": {},
          "execution_count": 19
        }
      ]
    },
    {
      "cell_type": "code",
      "source": [
        "a == b #같다"
      ],
      "metadata": {
        "colab": {
          "base_uri": "https://localhost:8080/"
        },
        "id": "HEQ_u8ANJdiT",
        "outputId": "b2e90a72-2e46-47b0-c1e0-258e85a5d662"
      },
      "execution_count": 20,
      "outputs": [
        {
          "output_type": "execute_result",
          "data": {
            "text/plain": [
              "False"
            ]
          },
          "metadata": {},
          "execution_count": 20
        }
      ]
    },
    {
      "cell_type": "code",
      "source": [
        "a != b #같지 않다"
      ],
      "metadata": {
        "colab": {
          "base_uri": "https://localhost:8080/"
        },
        "id": "1wlKq029Jf7x",
        "outputId": "e0ea0be2-15d6-4f46-b490-42aabf4ae1e0"
      },
      "execution_count": 21,
      "outputs": [
        {
          "output_type": "execute_result",
          "data": {
            "text/plain": [
              "True"
            ]
          },
          "metadata": {},
          "execution_count": 21
        }
      ]
    },
    {
      "cell_type": "markdown",
      "source": [
        "**문자열도 비교를 지원한다**\n",
        "* 사전식 순서 개념으로 비교\n",
        "* 영어 대문자가 소문자 보다 작음"
      ],
      "metadata": {
        "id": "QvIs-baOJ47u"
      }
    },
    {
      "cell_type": "code",
      "source": [
        "\"app\" < \"banana\""
      ],
      "metadata": {
        "colab": {
          "base_uri": "https://localhost:8080/"
        },
        "id": "6xK4iUQRJpRs",
        "outputId": "425e5f44-4344-416b-e126-a7d3a1632cec"
      },
      "execution_count": 52,
      "outputs": [
        {
          "output_type": "execute_result",
          "data": {
            "text/plain": [
              "True"
            ]
          },
          "metadata": {},
          "execution_count": 52
        }
      ]
    },
    {
      "cell_type": "code",
      "source": [
        "\"A\" <= \"a\""
      ],
      "metadata": {
        "colab": {
          "base_uri": "https://localhost:8080/"
        },
        "id": "fTN9sz1aTnZk",
        "outputId": "44f23c3e-460e-4d05-ccff-d61dfd2ad928"
      },
      "execution_count": 53,
      "outputs": [
        {
          "output_type": "execute_result",
          "data": {
            "text/plain": [
              "True"
            ]
          },
          "metadata": {},
          "execution_count": 53
        }
      ]
    },
    {
      "cell_type": "markdown",
      "source": [
        "###논리 연산자\n",
        "* and : 둘다 참이어야 True 반환\n",
        "* or : 둘 중 하나만 참이어도 True 반환\n",
        "* not : 부정"
      ],
      "metadata": {
        "id": "KuA32xDmTv3b"
      }
    },
    {
      "cell_type": "code",
      "source": [
        "1 < 2 and 2 < 1"
      ],
      "metadata": {
        "colab": {
          "base_uri": "https://localhost:8080/"
        },
        "id": "7eR8K0caTq7c",
        "outputId": "0b1cc1eb-3b53-4077-925e-25c5c41b4681"
      },
      "execution_count": 54,
      "outputs": [
        {
          "output_type": "execute_result",
          "data": {
            "text/plain": [
              "False"
            ]
          },
          "metadata": {},
          "execution_count": 54
        }
      ]
    },
    {
      "cell_type": "code",
      "source": [
        "1 < 2 or 2 < 1"
      ],
      "metadata": {
        "colab": {
          "base_uri": "https://localhost:8080/"
        },
        "id": "ZZV3KDzQUXTX",
        "outputId": "67662c80-c983-4f17-fa46-7cb9cb22f13d"
      },
      "execution_count": 55,
      "outputs": [
        {
          "output_type": "execute_result",
          "data": {
            "text/plain": [
              "True"
            ]
          },
          "metadata": {},
          "execution_count": 55
        }
      ]
    },
    {
      "cell_type": "code",
      "source": [
        "not(1 < 2 and 2 < 1)"
      ],
      "metadata": {
        "colab": {
          "base_uri": "https://localhost:8080/"
        },
        "id": "S8vjAJd0UZBY",
        "outputId": "f58edfa4-3b2d-49bb-8849-c05fda6781cc"
      },
      "execution_count": 56,
      "outputs": [
        {
          "output_type": "execute_result",
          "data": {
            "text/plain": [
              "True"
            ]
          },
          "metadata": {},
          "execution_count": 56
        }
      ]
    }
  ]
}
