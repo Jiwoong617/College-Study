{
  "nbformat": 4,
  "nbformat_minor": 0,
  "metadata": {
    "colab": {
      "name": "동적/정적_타이핑, 자료형_힌트.ipynb",
      "provenance": [],
      "collapsed_sections": []
    },
    "kernelspec": {
      "name": "python3",
      "display_name": "Python 3"
    },
    "language_info": {
      "name": "python"
    }
  },
  "cells": [
    {
      "cell_type": "markdown",
      "source": [
        "#자료형 힌트"
      ],
      "metadata": {
        "id": "pUTM9eIIoPHH"
      }
    },
    {
      "cell_type": "markdown",
      "source": [
        "### 동적 타이핑 / 정적 타이핑\n",
        "파이썬은 **동적 타이핑**의 언어. 즉 함수나 변수 선언시 자료형을 병시적으로 제한하지 않음.\n",
        "- 함수나 변수 선언 시 실행 과정에서 문제가 없도록 프로그램 작성 해야됨"
      ],
      "metadata": {
        "id": "AcKuz9yRoW-i"
      }
    },
    {
      "cell_type": "markdown",
      "source": [
        "ex) add함수"
      ],
      "metadata": {
        "id": "JbgKKUMUo7eX"
      }
    },
    {
      "cell_type": "code",
      "execution_count": null,
      "metadata": {
        "id": "rhQbXaNVn67H"
      },
      "outputs": [],
      "source": [
        "def add(a, b):\n",
        "    result = a + b\n",
        "    return result"
      ]
    },
    {
      "cell_type": "code",
      "source": [
        "add(10, 5)"
      ],
      "metadata": {
        "colab": {
          "base_uri": "https://localhost:8080/"
        },
        "id": "GAWxGiP4o-O0",
        "outputId": "7c14d6c6-2cd2-4615-942d-3e808c87795c"
      },
      "execution_count": null,
      "outputs": [
        {
          "output_type": "execute_result",
          "data": {
            "text/plain": [
              "15"
            ]
          },
          "metadata": {},
          "execution_count": 2
        }
      ]
    },
    {
      "cell_type": "code",
      "source": [
        "add(\"안녕\", \"하신가\")"
      ],
      "metadata": {
        "colab": {
          "base_uri": "https://localhost:8080/",
          "height": 35
        },
        "id": "l5PtdiEhpBSc",
        "outputId": "b75293a0-af5d-49c5-eb9d-7fa9307edec7"
      },
      "execution_count": null,
      "outputs": [
        {
          "output_type": "execute_result",
          "data": {
            "text/plain": [
              "'안녕하신가'"
            ],
            "application/vnd.google.colaboratory.intrinsic+json": {
              "type": "string"
            }
          },
          "metadata": {},
          "execution_count": 3
        }
      ]
    },
    {
      "cell_type": "markdown",
      "source": [
        "두 인자가 자료형이 다를경우 오류 발생"
      ],
      "metadata": {
        "id": "4GNdyMnqpMLv"
      }
    },
    {
      "cell_type": "code",
      "source": [
        "add(\"abc\"+123)"
      ],
      "metadata": {
        "colab": {
          "base_uri": "https://localhost:8080/",
          "height": 171
        },
        "id": "oTnSRZzCpFw6",
        "outputId": "4df660ad-3d06-4b28-bd98-7252ebe5ef9e"
      },
      "execution_count": null,
      "outputs": [
        {
          "output_type": "error",
          "ename": "TypeError",
          "evalue": "ignored",
          "traceback": [
            "\u001b[0;31m---------------------------------------------------------------------------\u001b[0m",
            "\u001b[0;31mTypeError\u001b[0m                                 Traceback (most recent call last)",
            "\u001b[0;32m<ipython-input-5-e111ce2ef584>\u001b[0m in \u001b[0;36m<module>\u001b[0;34m()\u001b[0m\n\u001b[0;32m----> 1\u001b[0;31m \u001b[0madd\u001b[0m\u001b[0;34m(\u001b[0m\u001b[0;34m\"abc\"\u001b[0m\u001b[0;34m+\u001b[0m\u001b[0;36m123\u001b[0m\u001b[0;34m)\u001b[0m\u001b[0;34m\u001b[0m\u001b[0;34m\u001b[0m\u001b[0m\n\u001b[0m",
            "\u001b[0;31mTypeError\u001b[0m: can only concatenate str (not \"int\") to str"
          ]
        }
      ]
    },
    {
      "cell_type": "markdown",
      "source": [
        "하지만 C, Java 등 많은 언어들은 **정적타이핑**\n",
        "- 함수나 변수 선언시 사용되는 변수들의 자료형과 인자 및 반환값의 자료형을 항상 명시\n",
        "- 지정된 자료형이 아닐 경우 오류 발생\n",
        "\n",
        "\n",
        "```\n",
        "int add(int a, int b) \n",
        "{\n",
        "    int result = a + b;\n",
        "    return result;\n",
        "}\n",
        "```\n",
        "이런 형태를 띔"
      ],
      "metadata": {
        "id": "eb33kbE1pXGk"
      }
    },
    {
      "cell_type": "markdown",
      "source": [
        "파이썬도 3.6버전부터 정적타이핑 지원.\n",
        "- 자료형 힌트를 지원 할뿐, 실제로는 동적 타이핑 방식\n",
        "- ->는 함수 반환값의 자료형"
      ],
      "metadata": {
        "id": "FHwZecAmqLs5"
      }
    },
    {
      "cell_type": "code",
      "source": [
        "def add(a: int, b: int) -> int:\n",
        "    return a + b"
      ],
      "metadata": {
        "id": "d_r7PwgzpJit"
      },
      "execution_count": null,
      "outputs": []
    },
    {
      "cell_type": "code",
      "source": [
        "type(add(\"a\",\"b\")) #힌트만 지원할 뿐 동적 타이핑임."
      ],
      "metadata": {
        "colab": {
          "base_uri": "https://localhost:8080/"
        },
        "id": "_YxnGwC-qwm9",
        "outputId": "e1ee06a8-2ad7-4c32-87c7-b68c9e618167"
      },
      "execution_count": null,
      "outputs": [
        {
          "output_type": "execute_result",
          "data": {
            "text/plain": [
              "str"
            ]
          },
          "metadata": {},
          "execution_count": 10
        }
      ]
    },
    {
      "cell_type": "markdown",
      "source": [
        "##자료형 힌트\n",
        "힌트일 뿐이지만 여러 장점\n",
        "- 코드에 사용된 객체들의 자료형 정보 제곡\n",
        "- 편집기의 자동완성 기능을 보다 적절하게 활용 해줌"
      ],
      "metadata": {
        "id": "pT9idqOFq_T8"
      }
    },
    {
      "cell_type": "code",
      "source": [
        "a : int =  3\n",
        "b : bool = True\n",
        "c : float = 3.14\n",
        "d : str = \"abcde\""
      ],
      "metadata": {
        "id": "VEfqsLJSq4Wk"
      },
      "execution_count": null,
      "outputs": []
    },
    {
      "cell_type": "markdown",
      "source": [
        "list, tuple등 여러가지 자료형이 들어가는 것들은 단순히 명시하면 도움이 안됨.\n",
        "\n",
        "ex)\n",
        "\n",
        "```\n",
        "e : list = [1,'abc', 3.14, True]\n",
        "```\n",
        "\n"
      ],
      "metadata": {
        "id": "jl2Ok4ZjsHYC"
      }
    },
    {
      "cell_type": "markdown",
      "source": [
        "## typing 모듈\n",
        "- 타이핑 힌트에 사용될 수 있는 많은 자료형 포함"
      ],
      "metadata": {
        "id": "6Ba8dJxQsUFC"
      }
    },
    {
      "cell_type": "code",
      "source": [
        "from typing import List, Dict, Tuple, Iterable"
      ],
      "metadata": {
        "id": "9ZLHi9y7r-ZE"
      },
      "execution_count": 1,
      "outputs": []
    },
    {
      "cell_type": "markdown",
      "source": [
        "리스트 자료형 단순 명시"
      ],
      "metadata": {
        "id": "3imhPuUFs4Fj"
      }
    },
    {
      "cell_type": "code",
      "source": [
        "def total(xs: list) -> float:\n",
        "    return sum(xs)"
      ],
      "metadata": {
        "id": "I-CCLBhPsvXZ"
      },
      "execution_count": null,
      "outputs": []
    },
    {
      "cell_type": "markdown",
      "source": [
        "자료형이 어떠한 걸로 구성된지 명시한 리스트"
      ],
      "metadata": {
        "id": "FPoQQveYs7uf"
      }
    },
    {
      "cell_type": "code",
      "source": [
        "def total(xs : List[float]) -> float:\n",
        "    return sum(xs)"
      ],
      "metadata": {
        "id": "gt6JH47Os2Qq"
      },
      "execution_count": null,
      "outputs": []
    },
    {
      "cell_type": "code",
      "source": [
        "counts: Dict[str, int] = {'abc': 1, 'def': 2} #사전\n",
        "counts[\"abc\"]"
      ],
      "metadata": {
        "colab": {
          "base_uri": "https://localhost:8080/"
        },
        "id": "nHgs7dsytCCI",
        "outputId": "b17c0340-ec36-4931-80cf-055a02fef63d"
      },
      "execution_count": null,
      "outputs": [
        {
          "output_type": "execute_result",
          "data": {
            "text/plain": [
              "1"
            ]
          },
          "metadata": {},
          "execution_count": 17
        }
      ]
    },
    {
      "cell_type": "code",
      "source": [
        "evens: Iterable[int] = (x for x in range(10) if x % 2 == 0) #iterable\n",
        "for i in evens:\n",
        "  print(i)"
      ],
      "metadata": {
        "colab": {
          "base_uri": "https://localhost:8080/"
        },
        "id": "1LMq-91DtN4F",
        "outputId": "9ded3c8e-1a1d-4315-8491-bcc98dbde4c7"
      },
      "execution_count": null,
      "outputs": [
        {
          "output_type": "stream",
          "name": "stdout",
          "text": [
            "0\n",
            "2\n",
            "4\n",
            "6\n",
            "8\n"
          ]
        }
      ]
    },
    {
      "cell_type": "code",
      "source": [
        "triple: Tuple[int, float, int] = (10, 2.3, 5) #tuple\n",
        "triple"
      ],
      "metadata": {
        "colab": {
          "base_uri": "https://localhost:8080/"
        },
        "id": "DgRU5JTatXvo",
        "outputId": "9ac67e8d-9a9a-468c-ded5-e756394f5e2a"
      },
      "execution_count": null,
      "outputs": [
        {
          "output_type": "execute_result",
          "data": {
            "text/plain": [
              "(10, 2.3, 5)"
            ]
          },
          "metadata": {},
          "execution_count": 26
        }
      ]
    },
    {
      "cell_type": "markdown",
      "source": [
        "### 자료형 객체\n",
        "- 자료형 힌트에 사용된 자료형 들도 1종 객체이며 변수에 할당 가능\n",
        "- 복잡한 자료형에 대한 단순한 이름 지정 가능"
      ],
      "metadata": {
        "id": "EuijDhoCqM7e"
      }
    },
    {
      "cell_type": "code",
      "source": [
        "Number = List[int]"
      ],
      "metadata": {
        "id": "6OOj9G-qtjn7"
      },
      "execution_count": 3,
      "outputs": []
    },
    {
      "cell_type": "code",
      "source": [
        "def my_sum(a : Number) -> int:\n",
        "  return sum(a)"
      ],
      "metadata": {
        "id": "5mxrUdnIqlyd"
      },
      "execution_count": 4,
      "outputs": []
    },
    {
      "cell_type": "code",
      "source": [
        "my_sum([1,2,3,4,5,6,7,8,9,10])"
      ],
      "metadata": {
        "colab": {
          "base_uri": "https://localhost:8080/"
        },
        "id": "m8V1YZ2fquoX",
        "outputId": "15abe1ec-69e8-456d-ad0f-1ccdfd8d3f48"
      },
      "execution_count": 5,
      "outputs": [
        {
          "output_type": "execute_result",
          "data": {
            "text/plain": [
              "55"
            ]
          },
          "metadata": {},
          "execution_count": 5
        }
      ]
    }
  ]
}