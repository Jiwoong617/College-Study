{
  "nbformat": 4,
  "nbformat_minor": 0,
  "metadata": {
    "colab": {
      "name": "자료형-사전.ipynb",
      "provenance": [],
      "collapsed_sections": []
    },
    "kernelspec": {
      "name": "python3",
      "display_name": "Python 3"
    },
    "language_info": {
      "name": "python"
    }
  },
  "cells": [
    {
      "cell_type": "markdown",
      "source": [
        "### 사전\n",
        "* {키: 값}\n",
        "* 사전 자료형은 키와 값의 쌍으로 이루어진 항목들의 집합\n",
        "* 키값은 변하지 않음\n",
        "* 딕셔너리라 부름\n",
        "* 정수, 부동소수점, 문자열, 튜플등 해시가능 자료형만 키로 사용가능\n",
        "  * 하지만 튜플안에는 리스트같은 변할수 있는 자료형 쓰면 안됨\n"
      ],
      "metadata": {
        "id": "RZN42fkJjcGV"
      }
    },
    {
      "cell_type": "markdown",
      "source": [
        "빈사전 생성"
      ],
      "metadata": {
        "id": "j1MCiaDmkGr9"
      }
    },
    {
      "cell_type": "code",
      "execution_count": null,
      "metadata": {
        "id": "9CLBEImvjS8I"
      },
      "outputs": [],
      "source": [
        "a = {}\n",
        "a = dict()"
      ]
    },
    {
      "cell_type": "markdown",
      "source": [
        "**사전 연산**"
      ],
      "metadata": {
        "id": "_XJJ0gj9kQG_"
      }
    },
    {
      "cell_type": "markdown",
      "source": [
        "in 연산자 : 사전의 \"키\"로 사용되었는지 여부 알려줌"
      ],
      "metadata": {
        "id": "FaTOWgqJkSej"
      }
    },
    {
      "cell_type": "code",
      "source": [
        "'a' in {'a': 123, 'b': 456}"
      ],
      "metadata": {
        "colab": {
          "base_uri": "https://localhost:8080/"
        },
        "id": "1k2cE6ZnkJ7S",
        "outputId": "48db690e-f96a-4d92-f390-dd3eed2d9d21"
      },
      "execution_count": null,
      "outputs": [
        {
          "output_type": "execute_result",
          "data": {
            "text/plain": [
              "True"
            ]
          },
          "metadata": {},
          "execution_count": 3
        }
      ]
    },
    {
      "cell_type": "code",
      "source": [
        "123 not in {'a': 123, 'b': 456}"
      ],
      "metadata": {
        "colab": {
          "base_uri": "https://localhost:8080/"
        },
        "id": "NRgt2-Gnkma5",
        "outputId": "fadc8d58-034c-4d65-f760-7edc09f4d524"
      },
      "execution_count": null,
      "outputs": [
        {
          "output_type": "execute_result",
          "data": {
            "text/plain": [
              "True"
            ]
          },
          "metadata": {},
          "execution_count": 4
        }
      ]
    },
    {
      "cell_type": "markdown",
      "source": [
        "len() 함수"
      ],
      "metadata": {
        "id": "jexXqk9_kqs0"
      }
    },
    {
      "cell_type": "code",
      "source": [
        "len({'a': 123, 'b': 456})"
      ],
      "metadata": {
        "colab": {
          "base_uri": "https://localhost:8080/"
        },
        "id": "9r2PapftkpFZ",
        "outputId": "6905908d-87f7-4ca2-9ee3-242d10d077e2"
      },
      "execution_count": null,
      "outputs": [
        {
          "output_type": "execute_result",
          "data": {
            "text/plain": [
              "2"
            ]
          },
          "metadata": {},
          "execution_count": 5
        }
      ]
    },
    {
      "cell_type": "markdown",
      "source": [
        "min()/max() : \"키\"로 사용된 값들의 값 비교, **기본적으로 키들의 자료형이 같고, 비교가능이어야됨**"
      ],
      "metadata": {
        "id": "DB7cN2l5kw-B"
      }
    },
    {
      "cell_type": "code",
      "source": [
        "min({'a': 123, 'b': 456})"
      ],
      "metadata": {
        "colab": {
          "base_uri": "https://localhost:8080/",
          "height": 35
        },
        "id": "4nbw9C47kwJn",
        "outputId": "456defd2-6a1f-41cd-d843-137aaebc044b"
      },
      "execution_count": null,
      "outputs": [
        {
          "output_type": "execute_result",
          "data": {
            "text/plain": [
              "'a'"
            ],
            "application/vnd.google.colaboratory.intrinsic+json": {
              "type": "string"
            }
          },
          "metadata": {},
          "execution_count": 6
        }
      ]
    },
    {
      "cell_type": "code",
      "source": [
        "max({'a': 123, 'b': 456})"
      ],
      "metadata": {
        "colab": {
          "base_uri": "https://localhost:8080/",
          "height": 35
        },
        "id": "ynspQV8Tk_dD",
        "outputId": "1c26e804-6504-4993-a58e-5dd93f8ffec6"
      },
      "execution_count": null,
      "outputs": [
        {
          "output_type": "execute_result",
          "data": {
            "text/plain": [
              "'b'"
            ],
            "application/vnd.google.colaboratory.intrinsic+json": {
              "type": "string"
            }
          },
          "metadata": {},
          "execution_count": 7
        }
      ]
    },
    {
      "cell_type": "markdown",
      "source": [
        "**사전 인덱싱**\n",
        "* 사전은 다른 자료형들과는 다르게 키로 인덱싱 함"
      ],
      "metadata": {
        "id": "yV1kY2ABlJA3"
      }
    },
    {
      "cell_type": "code",
      "source": [
        "a = {'a': 123, 'b': 456}\n",
        "a['a']"
      ],
      "metadata": {
        "colab": {
          "base_uri": "https://localhost:8080/"
        },
        "id": "v1VyYxNwlHlL",
        "outputId": "8c8d371e-34ee-483a-d29b-e9e0a0e77582"
      },
      "execution_count": null,
      "outputs": [
        {
          "output_type": "execute_result",
          "data": {
            "text/plain": [
              "123"
            ]
          },
          "metadata": {},
          "execution_count": 8
        }
      ]
    },
    {
      "cell_type": "markdown",
      "source": [
        "**사전 항목의 추가와 삭제**\n",
        "* 추가는 함수나 메소드가 필요없이 그냥 가능하다\n",
        "* 삭제는 del 명령어를 사용하여 삭제"
      ],
      "metadata": {
        "id": "czg6gH8Qlblk"
      }
    },
    {
      "cell_type": "markdown",
      "source": [
        "추가\n",
        "* 이미 사용된 키를 이용 시 해당 값이 바뀜"
      ],
      "metadata": {
        "id": "UebWKwJUlpSr"
      }
    },
    {
      "cell_type": "code",
      "source": [
        "a['c'] = 789\n",
        "print(a)\n",
        "a['c'] = 101112\n",
        "print(a)"
      ],
      "metadata": {
        "colab": {
          "base_uri": "https://localhost:8080/"
        },
        "id": "BgB3-v6LlWuU",
        "outputId": "896ab9a8-0e8b-425a-9bf6-c9444840d612"
      },
      "execution_count": null,
      "outputs": [
        {
          "output_type": "stream",
          "name": "stdout",
          "text": [
            "{'a': 123, 'b': 456, 'c': 789}\n",
            "{'a': 123, 'b': 456, 'c': 101112}\n"
          ]
        }
      ]
    },
    {
      "cell_type": "markdown",
      "source": [
        "삭제"
      ],
      "metadata": {
        "id": "NrYejhwAmJVZ"
      }
    },
    {
      "cell_type": "code",
      "source": [
        "del a['c']\n",
        "print(a)"
      ],
      "metadata": {
        "colab": {
          "base_uri": "https://localhost:8080/"
        },
        "id": "g3NcBrHAlxnh",
        "outputId": "5d3e6777-3727-4109-cbd2-e3676a8464e5"
      },
      "execution_count": null,
      "outputs": [
        {
          "output_type": "stream",
          "name": "stdout",
          "text": [
            "{'a': 123, 'b': 456}\n"
          ]
        }
      ]
    },
    {
      "cell_type": "markdown",
      "source": [
        "**사전 메서드**"
      ],
      "metadata": {
        "id": "iicUb9oemP9H"
      }
    },
    {
      "cell_type": "code",
      "source": [
        "dic = {'hi': 123, 'hello': 456}"
      ],
      "metadata": {
        "id": "lbcavdYYmNkk"
      },
      "execution_count": null,
      "outputs": []
    },
    {
      "cell_type": "markdown",
      "source": [
        ".keys() : 키만 모아 리스트와 비슷한 자료형으로 반환"
      ],
      "metadata": {
        "id": "ZrrN5oVwmeI6"
      }
    },
    {
      "cell_type": "code",
      "source": [
        "dic.keys()"
      ],
      "metadata": {
        "colab": {
          "base_uri": "https://localhost:8080/"
        },
        "id": "yYwYRwEOmZn2",
        "outputId": "05d5bd9b-0cbd-4e46-949e-47335f515983"
      },
      "execution_count": null,
      "outputs": [
        {
          "output_type": "execute_result",
          "data": {
            "text/plain": [
              "dict_keys(['hi', 'hello'])"
            ]
          },
          "metadata": {},
          "execution_count": 14
        }
      ]
    },
    {
      "cell_type": "markdown",
      "source": [
        ".values() : 값들만 모아 리스트와 비슷한 자료형으로 반환"
      ],
      "metadata": {
        "id": "YHD3R9kRmnrK"
      }
    },
    {
      "cell_type": "code",
      "source": [
        "dic.values()"
      ],
      "metadata": {
        "colab": {
          "base_uri": "https://localhost:8080/"
        },
        "id": "E5WBb-6fmlsC",
        "outputId": "ee1602a8-c21a-4933-f2da-61052c3d6d0c"
      },
      "execution_count": null,
      "outputs": [
        {
          "output_type": "execute_result",
          "data": {
            "text/plain": [
              "dict_values([123, 456])"
            ]
          },
          "metadata": {},
          "execution_count": 15
        }
      ]
    },
    {
      "cell_type": "markdown",
      "source": [
        ".items() : 키, 값을 모두 모아 리스트와 비슷한 자료형으로 반환"
      ],
      "metadata": {
        "id": "C4MlpUhbm0kQ"
      }
    },
    {
      "cell_type": "code",
      "source": [
        "dic.items()"
      ],
      "metadata": {
        "colab": {
          "base_uri": "https://localhost:8080/"
        },
        "id": "kaWRjCw7mzpR",
        "outputId": "9db45d85-c199-42cf-b738-f79b1c605542"
      },
      "execution_count": null,
      "outputs": [
        {
          "output_type": "execute_result",
          "data": {
            "text/plain": [
              "dict_items([('hi', 123), ('hello', 456)])"
            ]
          },
          "metadata": {},
          "execution_count": 16
        }
      ]
    },
    {
      "cell_type": "markdown",
      "source": [
        ".get() : 키에 대응되는 값 반환, 존재하지 않는 키 사용시 None 반환"
      ],
      "metadata": {
        "id": "ky2A5Zshm9Tb"
      }
    },
    {
      "cell_type": "code",
      "source": [
        "dic.get('hi')"
      ],
      "metadata": {
        "colab": {
          "base_uri": "https://localhost:8080/"
        },
        "id": "q5HAONsxm8uv",
        "outputId": "e826e507-4618-4eb4-ae28-0e767ae60277"
      },
      "execution_count": null,
      "outputs": [
        {
          "output_type": "execute_result",
          "data": {
            "text/plain": [
              "123"
            ]
          },
          "metadata": {},
          "execution_count": 17
        }
      ]
    },
    {
      "cell_type": "markdown",
      "source": [
        ".update() : 다른 사전과 합침, 반환값 None"
      ],
      "metadata": {
        "id": "IXnQ6_W4nN2p"
      }
    },
    {
      "cell_type": "code",
      "source": [
        "dic2 = {123: \"hi\", 456: \"hello\"}\n",
        "dic.update(dic2)\n",
        "print(dic)"
      ],
      "metadata": {
        "colab": {
          "base_uri": "https://localhost:8080/"
        },
        "id": "QdYTXer-nG_C",
        "outputId": "095a5ae2-9ca9-4592-888c-ed75f2c328a9"
      },
      "execution_count": null,
      "outputs": [
        {
          "output_type": "stream",
          "name": "stdout",
          "text": [
            "{'hi': 123, 'hello': 456, 123: 'hi', 456: 'hello'}\n"
          ]
        }
      ]
    },
    {
      "cell_type": "markdown",
      "source": [
        ".pop() : key에 해당하는 항목을 삭제 후 반환"
      ],
      "metadata": {
        "id": "QnkXTgtSnd1B"
      }
    },
    {
      "cell_type": "code",
      "source": [
        "dic.pop(123)"
      ],
      "metadata": {
        "colab": {
          "base_uri": "https://localhost:8080/",
          "height": 35
        },
        "id": "VF2HmA-hna9q",
        "outputId": "0cda8ae9-6364-4b16-92b6-20db7fd98f20"
      },
      "execution_count": null,
      "outputs": [
        {
          "output_type": "execute_result",
          "data": {
            "text/plain": [
              "'hi'"
            ],
            "application/vnd.google.colaboratory.intrinsic+json": {
              "type": "string"
            }
          },
          "metadata": {},
          "execution_count": 20
        }
      ]
    },
    {
      "cell_type": "markdown",
      "source": [
        ".clear() : 사전안 모든 항목 삭제"
      ],
      "metadata": {
        "id": "B1Ylym6XnroC"
      }
    },
    {
      "cell_type": "code",
      "source": [
        "dic.clear()\n",
        "print(dic)"
      ],
      "metadata": {
        "colab": {
          "base_uri": "https://localhost:8080/"
        },
        "id": "317V9U7dnpRb",
        "outputId": "0d9b85e6-72b1-4e4a-ae51-f9a7c94a9c1b"
      },
      "execution_count": null,
      "outputs": [
        {
          "output_type": "stream",
          "name": "stdout",
          "text": [
            "{}\n"
          ]
        }
      ]
    }
  ]
}