{
  "nbformat": 4,
  "nbformat_minor": 0,
  "metadata": {
    "colab": {
      "name": "자료형-문자열.ipynb",
      "provenance": [],
      "collapsed_sections": []
    },
    "kernelspec": {
      "name": "python3",
      "display_name": "Python 3"
    },
    "language_info": {
      "name": "python"
    }
  },
  "cells": [
    {
      "cell_type": "markdown",
      "source": [
        "###문자열\n"
      ],
      "metadata": {
        "id": "tdbejZnOxse2"
      }
    },
    {
      "cell_type": "markdown",
      "source": [
        "**문자열 연산**"
      ],
      "metadata": {
        "id": "ZTMy3rpExxez"
      }
    },
    {
      "cell_type": "markdown",
      "source": [
        "in 연산자 : 문자열의 일부로 포함된 부분 문자열인지 여부를 판단하는 논리 연산자"
      ],
      "metadata": {
        "id": "zSZg3OBex2fj"
      }
    },
    {
      "cell_type": "code",
      "execution_count": 1,
      "metadata": {
        "colab": {
          "base_uri": "https://localhost:8080/"
        },
        "id": "f7K3DUEQwg0p",
        "outputId": "76119c08-c14f-4d0d-c3ec-78aaf15d5c23"
      },
      "outputs": [
        {
          "output_type": "execute_result",
          "data": {
            "text/plain": [
              "True"
            ]
          },
          "metadata": {},
          "execution_count": 1
        }
      ],
      "source": [
        "'abc' in 'qwertyabchello'"
      ]
    },
    {
      "cell_type": "markdown",
      "source": [
        "크기비교 연산자\n",
        "* 사전식의 순서를 사용하여 공백, 소문자, 대문자 순으로 크기가 정해짐"
      ],
      "metadata": {
        "id": "ReI-vLflyD9n"
      }
    },
    {
      "cell_type": "code",
      "source": [
        "'a' > 'A'"
      ],
      "metadata": {
        "colab": {
          "base_uri": "https://localhost:8080/"
        },
        "id": "rPUHOlRmyBfo",
        "outputId": "1e0e15ef-f8e2-4164-c5c1-14fadaf9a460"
      },
      "execution_count": 3,
      "outputs": [
        {
          "output_type": "execute_result",
          "data": {
            "text/plain": [
              "True"
            ]
          },
          "metadata": {},
          "execution_count": 3
        }
      ]
    },
    {
      "cell_type": "markdown",
      "source": [
        "min()/max() 함수 : 문자열에 사용된 가장 작은 또는 가장 큰 값의 기호를 반환한다."
      ],
      "metadata": {
        "id": "hYGNh-4hyfdR"
      }
    },
    {
      "cell_type": "code",
      "source": [
        "min(\"Hello\")"
      ],
      "metadata": {
        "colab": {
          "base_uri": "https://localhost:8080/",
          "height": 35
        },
        "id": "BCUM0THgybpV",
        "outputId": "961c68d9-afde-42f9-de87-1bd91dc7875a"
      },
      "execution_count": 4,
      "outputs": [
        {
          "output_type": "execute_result",
          "data": {
            "text/plain": [
              "'H'"
            ],
            "application/vnd.google.colaboratory.intrinsic+json": {
              "type": "string"
            }
          },
          "metadata": {},
          "execution_count": 4
        }
      ]
    },
    {
      "cell_type": "code",
      "source": [
        "max(\"Hello\")"
      ],
      "metadata": {
        "colab": {
          "base_uri": "https://localhost:8080/",
          "height": 35
        },
        "id": "hGcj_ZtAyoOK",
        "outputId": "85658185-9a2f-4ae8-efc2-bdb812aa754d"
      },
      "execution_count": 5,
      "outputs": [
        {
          "output_type": "execute_result",
          "data": {
            "text/plain": [
              "'o'"
            ],
            "application/vnd.google.colaboratory.intrinsic+json": {
              "type": "string"
            }
          },
          "metadata": {},
          "execution_count": 5
        }
      ]
    },
    {
      "cell_type": "markdown",
      "source": [
        "len() : 문자열의 길이 반환"
      ],
      "metadata": {
        "id": "gDOt98aaytaz"
      }
    },
    {
      "cell_type": "code",
      "source": [
        "len(\"hello\")"
      ],
      "metadata": {
        "colab": {
          "base_uri": "https://localhost:8080/"
        },
        "id": "L7QdlrN_yqnR",
        "outputId": "85018be7-bc0f-4156-e777-7617555383ab"
      },
      "execution_count": 6,
      "outputs": [
        {
          "output_type": "execute_result",
          "data": {
            "text/plain": [
              "5"
            ]
          },
          "metadata": {},
          "execution_count": 6
        }
      ]
    },
    {
      "cell_type": "markdown",
      "source": [
        "**문자열 인덱싱/슬라이싱**\n",
        "* [시작 인덱스: 끝 인덱스: 계단]\n",
        "* 시작 인덱스 기본값 : 0\n",
        "* 끝 인덱스 기본값 : 문자열의 길이\n",
        "* 계단 기본값 : 1"
      ],
      "metadata": {
        "id": "_Tvu-t8Zy1xo"
      }
    },
    {
      "cell_type": "markdown",
      "source": [
        "문자열 인덱싱"
      ],
      "metadata": {
        "id": "E9YBT6W9y4nu"
      }
    },
    {
      "cell_type": "code",
      "source": [
        "a = \"hello python!\"\n",
        "a[6]"
      ],
      "metadata": {
        "colab": {
          "base_uri": "https://localhost:8080/",
          "height": 35
        },
        "id": "FUABlZHWy0Fe",
        "outputId": "b557f937-c2ad-4b72-ad19-8266e5f9972a"
      },
      "execution_count": 8,
      "outputs": [
        {
          "output_type": "execute_result",
          "data": {
            "text/plain": [
              "'p'"
            ],
            "application/vnd.google.colaboratory.intrinsic+json": {
              "type": "string"
            }
          },
          "metadata": {},
          "execution_count": 8
        }
      ]
    },
    {
      "cell_type": "markdown",
      "source": [
        "문자열 슬라이싱"
      ],
      "metadata": {
        "id": "h35pSf9z4vIg"
      }
    },
    {
      "cell_type": "code",
      "source": [
        "b = 'one,two,three,four'\n",
        "b[2:10:2]"
      ],
      "metadata": {
        "colab": {
          "base_uri": "https://localhost:8080/",
          "height": 35
        },
        "id": "aTMOmDtu4tUa",
        "outputId": "1907d577-e1bf-4092-dd9b-f638f775b12b"
      },
      "execution_count": 12,
      "outputs": [
        {
          "output_type": "execute_result",
          "data": {
            "text/plain": [
              "'etot'"
            ],
            "application/vnd.google.colaboratory.intrinsic+json": {
              "type": "string"
            }
          },
          "metadata": {},
          "execution_count": 12
        }
      ]
    },
    {
      "cell_type": "code",
      "source": [
        "b[5:-1:]"
      ],
      "metadata": {
        "colab": {
          "base_uri": "https://localhost:8080/",
          "height": 35
        },
        "id": "IvK5UBeY40m9",
        "outputId": "77efe7e9-c6f3-4373-e7a5-c5505a5d11de"
      },
      "execution_count": 15,
      "outputs": [
        {
          "output_type": "execute_result",
          "data": {
            "text/plain": [
              "'wo,three,fou'"
            ],
            "application/vnd.google.colaboratory.intrinsic+json": {
              "type": "string"
            }
          },
          "metadata": {},
          "execution_count": 15
        }
      ]
    },
    {
      "cell_type": "markdown",
      "source": [
        "**문자열 메서드**"
      ],
      "metadata": {
        "id": "iRptQaW55U91"
      }
    },
    {
      "cell_type": "code",
      "source": [
        "word = \"hi, hello, how are you? \""
      ],
      "metadata": {
        "id": "tTHmSR0Y5Cjo"
      },
      "execution_count": 17,
      "outputs": []
    },
    {
      "cell_type": "markdown",
      "source": [
        "count() : 지정된 문자열이 등장한 횟수 반환"
      ],
      "metadata": {
        "id": "CLSMptAx5YtO"
      }
    },
    {
      "cell_type": "code",
      "source": [
        "word.count('ho')"
      ],
      "metadata": {
        "colab": {
          "base_uri": "https://localhost:8080/"
        },
        "id": "JAF4Sysl5kt4",
        "outputId": "80d95c49-7083-4f75-e40d-9e13963273ca"
      },
      "execution_count": 20,
      "outputs": [
        {
          "output_type": "execute_result",
          "data": {
            "text/plain": [
              "1"
            ]
          },
          "metadata": {},
          "execution_count": 20
        }
      ]
    },
    {
      "cell_type": "markdown",
      "source": [
        "find() : 지정된 문자열이 처음 등장한 위치 반환. 지정된 문자열이 없다면 -1반환"
      ],
      "metadata": {
        "id": "0Q4Bg0Hq50-_"
      }
    },
    {
      "cell_type": "code",
      "source": [
        "word.find('he')"
      ],
      "metadata": {
        "colab": {
          "base_uri": "https://localhost:8080/"
        },
        "id": "m14pXbnB5uaU",
        "outputId": "98bbe958-fe20-45aa-e8d1-62fe49d3b2b4"
      },
      "execution_count": 21,
      "outputs": [
        {
          "output_type": "execute_result",
          "data": {
            "text/plain": [
              "4"
            ]
          },
          "metadata": {},
          "execution_count": 21
        }
      ]
    },
    {
      "cell_type": "code",
      "source": [
        "word.find('ab')"
      ],
      "metadata": {
        "colab": {
          "base_uri": "https://localhost:8080/"
        },
        "id": "T1BABM9T54Bi",
        "outputId": "e279157d-0f82-4180-b057-3f8760bd239b"
      },
      "execution_count": 22,
      "outputs": [
        {
          "output_type": "execute_result",
          "data": {
            "text/plain": [
              "-1"
            ]
          },
          "metadata": {},
          "execution_count": 22
        }
      ]
    },
    {
      "cell_type": "markdown",
      "source": [
        "index() : 지정된 문자열이 처음 등장한 위치 반환. 지정된 문자열이 없다면 오류발생"
      ],
      "metadata": {
        "id": "77mcv1sQ5-Mi"
      }
    },
    {
      "cell_type": "code",
      "source": [
        "word.index('he')"
      ],
      "metadata": {
        "colab": {
          "base_uri": "https://localhost:8080/"
        },
        "id": "JvySwl8457Xr",
        "outputId": "645d2e8a-d324-4c06-9b99-9f9b34b78547"
      },
      "execution_count": 23,
      "outputs": [
        {
          "output_type": "execute_result",
          "data": {
            "text/plain": [
              "4"
            ]
          },
          "metadata": {},
          "execution_count": 23
        }
      ]
    },
    {
      "cell_type": "code",
      "source": [
        "word.index('abc')"
      ],
      "metadata": {
        "colab": {
          "base_uri": "https://localhost:8080/",
          "height": 171
        },
        "id": "vJzTNR__6Bcn",
        "outputId": "859247af-cf7c-4c99-b47f-4200305f4b81"
      },
      "execution_count": 24,
      "outputs": [
        {
          "output_type": "error",
          "ename": "ValueError",
          "evalue": "ignored",
          "traceback": [
            "\u001b[0;31m---------------------------------------------------------------------------\u001b[0m",
            "\u001b[0;31mValueError\u001b[0m                                Traceback (most recent call last)",
            "\u001b[0;32m<ipython-input-24-dfea700eee88>\u001b[0m in \u001b[0;36m<module>\u001b[0;34m()\u001b[0m\n\u001b[0;32m----> 1\u001b[0;31m \u001b[0mword\u001b[0m\u001b[0;34m.\u001b[0m\u001b[0mindex\u001b[0m\u001b[0;34m(\u001b[0m\u001b[0;34m'abc'\u001b[0m\u001b[0;34m)\u001b[0m\u001b[0;34m\u001b[0m\u001b[0;34m\u001b[0m\u001b[0m\n\u001b[0m",
            "\u001b[0;31mValueError\u001b[0m: substring not found"
          ]
        }
      ]
    },
    {
      "cell_type": "markdown",
      "source": [
        "upper() : 문자열에 사용된 문자를 모두 대문자로 변환한 문자열 반환"
      ],
      "metadata": {
        "id": "jzcB1gzk6KPq"
      }
    },
    {
      "cell_type": "code",
      "source": [
        "word.upper()"
      ],
      "metadata": {
        "colab": {
          "base_uri": "https://localhost:8080/",
          "height": 35
        },
        "id": "O3uHzpVX6M1E",
        "outputId": "d43a98f1-02ad-4372-ba7f-c74a8035de0e"
      },
      "execution_count": 25,
      "outputs": [
        {
          "output_type": "execute_result",
          "data": {
            "text/plain": [
              "'HI, HELLO, HOW ARE YOU? '"
            ],
            "application/vnd.google.colaboratory.intrinsic+json": {
              "type": "string"
            }
          },
          "metadata": {},
          "execution_count": 25
        }
      ]
    },
    {
      "cell_type": "markdown",
      "source": [
        "lower() : 문자열에 사용된 문자를 모두 소문자로 변환한 문자열 반환"
      ],
      "metadata": {
        "id": "LKtPX1mw6Gfb"
      }
    },
    {
      "cell_type": "code",
      "source": [
        "word.lower()"
      ],
      "metadata": {
        "colab": {
          "base_uri": "https://localhost:8080/",
          "height": 35
        },
        "id": "pc33TgJC6D-s",
        "outputId": "c69fd6c2-c845-44f6-c4a3-d89f8170afde"
      },
      "execution_count": 26,
      "outputs": [
        {
          "output_type": "execute_result",
          "data": {
            "text/plain": [
              "'hi, hello, how are you? '"
            ],
            "application/vnd.google.colaboratory.intrinsic+json": {
              "type": "string"
            }
          },
          "metadata": {},
          "execution_count": 26
        }
      ]
    },
    {
      "cell_type": "markdown",
      "source": [
        "replace() : 하나의 문자열을 다른 문자열로 대체한 문자열 반환"
      ],
      "metadata": {
        "id": "JOK___-X6TYY"
      }
    },
    {
      "cell_type": "code",
      "source": [
        "word.replace(',', ':')"
      ],
      "metadata": {
        "colab": {
          "base_uri": "https://localhost:8080/",
          "height": 35
        },
        "id": "ZFyo2ThF6PpG",
        "outputId": "ad29beaf-4447-4b7e-e6b8-9cc5d5a86d24"
      },
      "execution_count": 27,
      "outputs": [
        {
          "output_type": "execute_result",
          "data": {
            "text/plain": [
              "'hi: hello: how are you? '"
            ],
            "application/vnd.google.colaboratory.intrinsic+json": {
              "type": "string"
            }
          },
          "metadata": {},
          "execution_count": 27
        }
      ]
    },
    {
      "cell_type": "markdown",
      "source": [
        "lstrip()/rstrip() : 문자열 왼쪽/오른쪽에서 지정된 부분 문자열을 삭제한 문자열 반환. \n",
        "* 지정된 부분 문자열이 없는 경우 왼쪽/오른쪽 공백들을 삭제한 문자열 반환"
      ],
      "metadata": {
        "id": "mWxy9SQA6dR1"
      }
    },
    {
      "cell_type": "code",
      "source": [
        "word.lstrip(\"hi\")"
      ],
      "metadata": {
        "colab": {
          "base_uri": "https://localhost:8080/",
          "height": 35
        },
        "id": "qQPFDjL36Y3Z",
        "outputId": "e0d77c4f-5f22-4185-b382-b2a85a491316"
      },
      "execution_count": 30,
      "outputs": [
        {
          "output_type": "execute_result",
          "data": {
            "text/plain": [
              "', hello, how are you? '"
            ],
            "application/vnd.google.colaboratory.intrinsic+json": {
              "type": "string"
            }
          },
          "metadata": {},
          "execution_count": 30
        }
      ]
    },
    {
      "cell_type": "code",
      "source": [
        "word.rstrip(\"you? \")"
      ],
      "metadata": {
        "colab": {
          "base_uri": "https://localhost:8080/",
          "height": 35
        },
        "id": "RBeH2t3k616h",
        "outputId": "4eef9ed6-0457-417e-ee59-5b16c226575c"
      },
      "execution_count": 34,
      "outputs": [
        {
          "output_type": "execute_result",
          "data": {
            "text/plain": [
              "'hi, hello, how are'"
            ],
            "application/vnd.google.colaboratory.intrinsic+json": {
              "type": "string"
            }
          },
          "metadata": {},
          "execution_count": 34
        }
      ]
    },
    {
      "cell_type": "markdown",
      "source": [
        "split() : 문자열을 지정된 기준으로 잘라서 생성된 문자열로 구성된 리스트 반환\n",
        "* 지정된 문자열이 없을 경우 공백을 기준으로 사용"
      ],
      "metadata": {
        "id": "e0QBKUZw7Fop"
      }
    },
    {
      "cell_type": "code",
      "source": [
        "word.split()"
      ],
      "metadata": {
        "colab": {
          "base_uri": "https://localhost:8080/"
        },
        "id": "QHtRLGzA68U3",
        "outputId": "7db83ee9-06ca-4bd9-fe2e-a4165d5f9305"
      },
      "execution_count": 35,
      "outputs": [
        {
          "output_type": "execute_result",
          "data": {
            "text/plain": [
              "['hi,', 'hello,', 'how', 'are', 'you?']"
            ]
          },
          "metadata": {},
          "execution_count": 35
        }
      ]
    },
    {
      "cell_type": "code",
      "source": [
        "word.split(',')"
      ],
      "metadata": {
        "colab": {
          "base_uri": "https://localhost:8080/"
        },
        "id": "L5ML-kBr7U3f",
        "outputId": "0ec20f2b-af60-4167-cd19-7007762dcb06"
      },
      "execution_count": 36,
      "outputs": [
        {
          "output_type": "execute_result",
          "data": {
            "text/plain": [
              "['hi', ' hello', ' how are you? ']"
            ]
          },
          "metadata": {},
          "execution_count": 36
        }
      ]
    },
    {
      "cell_type": "markdown",
      "source": [
        "join() : 지정된 문자열에 포함된 모든 문자들 사이에 지정된 문자열이 삽입된 문자열 반환"
      ],
      "metadata": {
        "id": "STjcchk-7c0g"
      }
    },
    {
      "cell_type": "code",
      "source": [
        "\"!\".join(word)"
      ],
      "metadata": {
        "colab": {
          "base_uri": "https://localhost:8080/",
          "height": 35
        },
        "id": "-Dn_JbK07WQp",
        "outputId": "8c5ad96b-7884-4ec6-d53a-aed41c99d694"
      },
      "execution_count": 39,
      "outputs": [
        {
          "output_type": "execute_result",
          "data": {
            "text/plain": [
              "'h!i!,! !h!e!l!l!o!,! !h!o!w! !a!r!e! !y!o!u!?! '"
            ],
            "application/vnd.google.colaboratory.intrinsic+json": {
              "type": "string"
            }
          },
          "metadata": {},
          "execution_count": 39
        }
      ]
    },
    {
      "cell_type": "markdown",
      "source": [
        "ex) int, split으로 정수형으로 잘라진 문자열들 다시 문자열로 붙이기"
      ],
      "metadata": {
        "id": "1UEL0Oo07ykb"
      }
    },
    {
      "cell_type": "code",
      "source": [
        "a = \"123 456 789\""
      ],
      "metadata": {
        "id": "K2Xv1kDo75Bb"
      },
      "execution_count": 63,
      "outputs": []
    },
    {
      "cell_type": "code",
      "source": [
        "b = list(map(int,a.split()))\n",
        "b"
      ],
      "metadata": {
        "colab": {
          "base_uri": "https://localhost:8080/"
        },
        "id": "I2GDpoZ58IKi",
        "outputId": "0be06b4b-14fb-4cb5-8df7-6ae7f6c82620"
      },
      "execution_count": 66,
      "outputs": [
        {
          "output_type": "execute_result",
          "data": {
            "text/plain": [
              "[123, 456, 789]"
            ]
          },
          "metadata": {},
          "execution_count": 66
        }
      ]
    },
    {
      "cell_type": "code",
      "source": [
        "c = ' '.join(map(str,b))\n",
        "c"
      ],
      "metadata": {
        "colab": {
          "base_uri": "https://localhost:8080/",
          "height": 35
        },
        "id": "S05w2dJ58LmQ",
        "outputId": "d50d3286-34e2-4f39-ecd3-f39bd3b3d45f"
      },
      "execution_count": 69,
      "outputs": [
        {
          "output_type": "execute_result",
          "data": {
            "text/plain": [
              "'123 456 789'"
            ],
            "application/vnd.google.colaboratory.intrinsic+json": {
              "type": "string"
            }
          },
          "metadata": {},
          "execution_count": 69
        }
      ]
    }
  ]
}