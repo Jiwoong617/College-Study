{
  "nbformat": 4,
  "nbformat_minor": 0,
  "metadata": {
    "colab": {
      "name": "파이썬_행렬_기초.ipynb",
      "provenance": [],
      "collapsed_sections": []
    },
    "kernelspec": {
      "name": "python3",
      "display_name": "Python 3"
    },
    "language_info": {
      "name": "python"
    }
  },
  "cells": [
    {
      "cell_type": "code",
      "source": [
        "from typing import List, Tuple"
      ],
      "metadata": {
        "id": "fAaHQPrHAM_e"
      },
      "execution_count": 2,
      "outputs": []
    },
    {
      "cell_type": "markdown",
      "source": [
        "# 행렬\n",
        "행렬은 숫자들을 직사각형 형태로 배열한 것\n",
        "- 행과 열로 구성됨"
      ],
      "metadata": {
        "id": "a20AYTQg_i3R"
      }
    },
    {
      "cell_type": "code",
      "execution_count": 3,
      "metadata": {
        "id": "_slci0Gd_iPi"
      },
      "outputs": [],
      "source": [
        "Matrix = List[List[float]] #행렬의 자료형"
      ]
    },
    {
      "cell_type": "code",
      "source": [
        "a = [[1,2,3], # 2*3 행렬\n",
        "     [4,5,6]]\n",
        "b = [[1,2], # 3*2 행렬\n",
        "     [3,4],\n",
        "     [5,6]]"
      ],
      "metadata": {
        "id": "o15ddNd2Apft"
      },
      "execution_count": 8,
      "outputs": []
    },
    {
      "cell_type": "markdown",
      "source": [
        "행렬의 모양"
      ],
      "metadata": {
        "id": "SoB3Jy_KAx--"
      }
    },
    {
      "cell_type": "code",
      "source": [
        "def shape(A: Matrix) -> Tuple[int, int]:\n",
        "    num_rows = len(A)\n",
        "    num_cols = len(A[0]) if A else 0\n",
        "    return num_rows, num_cols"
      ],
      "metadata": {
        "id": "rXgdm8_cAdTQ"
      },
      "execution_count": 9,
      "outputs": []
    },
    {
      "cell_type": "code",
      "source": [
        "shape(a) # 행 2, 열 3"
      ],
      "metadata": {
        "colab": {
          "base_uri": "https://localhost:8080/"
        },
        "id": "DpdiENkmAxcV",
        "outputId": "a00bb0bf-8824-48a0-9111-e9b920c52dcf"
      },
      "execution_count": 16,
      "outputs": [
        {
          "output_type": "execute_result",
          "data": {
            "text/plain": [
              "(2, 3)"
            ]
          },
          "metadata": {},
          "execution_count": 16
        }
      ]
    },
    {
      "cell_type": "code",
      "source": [
        "shape(b) # 행 3, 열 2"
      ],
      "metadata": {
        "colab": {
          "base_uri": "https://localhost:8080/"
        },
        "id": "SSz3NneTA3cj",
        "outputId": "390410da-2fcc-4189-c3eb-ec24c46a8a7c"
      },
      "execution_count": 17,
      "outputs": [
        {
          "output_type": "execute_result",
          "data": {
            "text/plain": [
              "(3, 2)"
            ]
          },
          "metadata": {},
          "execution_count": 17
        }
      ]
    },
    {
      "cell_type": "markdown",
      "source": [
        "**행렬 생성 함수**"
      ],
      "metadata": {
        "id": "cZeKv52VDrcA"
      }
    },
    {
      "cell_type": "code",
      "source": [
        "from typing import Callable\n",
        "\n",
        "def make_matrix(num_rows: int, #행의 수\n",
        "                num_cols: int, #열의 수\n",
        "                entry_fn: Callable[[int, int], float]) -> Matrix: #i행 j열의 위치한 값 계산\n",
        "    return [ [entry_fn(i, j) for j in range(num_cols)] for i in range(num_rows)]   "
      ],
      "metadata": {
        "id": "0HRupJ2ZDquD"
      },
      "execution_count": 26,
      "outputs": []
    },
    {
      "cell_type": "markdown",
      "source": [
        "**영행렬(zero matrix)**\n",
        "\n",
        "행렬의 모든값이 0인 행렬"
      ],
      "metadata": {
        "id": "ppGfuHfxBP69"
      }
    },
    {
      "cell_type": "code",
      "source": [
        "c = [[0,0,0],\n",
        "     [0,0,0],\n",
        "     [0,0,0]]"
      ],
      "metadata": {
        "id": "0cnvTh9HA4HV"
      },
      "execution_count": 13,
      "outputs": []
    },
    {
      "cell_type": "markdown",
      "source": [
        "**단위 행렬(identity matrix)**\n",
        "\n",
        "정사각형의 행렬 중에서 대각선 상에 위치한 항목은 1이고 나머지는 0인 행렬"
      ],
      "metadata": {
        "id": "qz0ivTUDBiTo"
      }
    },
    {
      "cell_type": "code",
      "source": [
        "d = [[1, 0, 0, 0, 0],\n",
        "     [0, 1, 0, 0, 0],\n",
        "     [0, 0, 1, 0, 0],\n",
        "     [0, 0, 0, 1, 0],\n",
        "     [0, 0, 0, 0, 1]]"
      ],
      "metadata": {
        "id": "npNqoIsrBevz"
      },
      "execution_count": 15,
      "outputs": []
    },
    {
      "cell_type": "markdown",
      "source": [
        "## 행렬의 연산"
      ],
      "metadata": {
        "id": "ZJfvNfLKB_ty"
      }
    },
    {
      "cell_type": "markdown",
      "source": [
        "**행렬의 덧셈/ 뺄셈**\n",
        "\n",
        "- 모양이 같아야됨 : 행과 열이 같아야됨\n",
        "- 벡터의 덧셈/뺄셈과 동일한 방식"
      ],
      "metadata": {
        "id": "BzaJQrBiCFy5"
      }
    },
    {
      "cell_type": "code",
      "source": [
        "def addM(A: Matrix, B: Matrix) -> Matrix:\n",
        "    assert shape(A) == shape(B)\n",
        "    \n",
        "    m, n = shape(A)\n",
        "    \n",
        "    return make_matrix(m, n, lambda i, j: A[i][j] + B[i][j])\n",
        "\n",
        "def subtractM(A: Matrix, B: Matrix) -> Matrix:\n",
        "    assert shape(A) == shape(B)\n",
        "    \n",
        "    m, n = shape(A)\n",
        "    \n",
        "    return make_matrix(m, n, lambda i, j: A[i][j] - B[i][j])"
      ],
      "metadata": {
        "id": "zkH9kQBkCkY1"
      },
      "execution_count": 27,
      "outputs": []
    },
    {
      "cell_type": "code",
      "source": [
        "x = [[1, 3, 7],\n",
        "     [1, 0, 0]]\n",
        "y = [[0, 0, 5], \n",
        "     [7, 5, 0]]  "
      ],
      "metadata": {
        "id": "yFsBlmZ7Bztq"
      },
      "execution_count": 28,
      "outputs": []
    },
    {
      "cell_type": "code",
      "source": [
        "addM(x,y)"
      ],
      "metadata": {
        "colab": {
          "base_uri": "https://localhost:8080/"
        },
        "id": "7wkxCCQuCfIZ",
        "outputId": "e7664592-fd25-4484-af91-1f5c4f7fc357"
      },
      "execution_count": 29,
      "outputs": [
        {
          "output_type": "execute_result",
          "data": {
            "text/plain": [
              "[[1, 3, 12], [8, 5, 0]]"
            ]
          },
          "metadata": {},
          "execution_count": 29
        }
      ]
    },
    {
      "cell_type": "code",
      "source": [
        "subtractM(x,y)"
      ],
      "metadata": {
        "colab": {
          "base_uri": "https://localhost:8080/"
        },
        "id": "3zmKIYB1CiDO",
        "outputId": "0e7dd40b-e8b1-4699-849c-ce3fcf732c68"
      },
      "execution_count": 30,
      "outputs": [
        {
          "output_type": "execute_result",
          "data": {
            "text/plain": [
              "[[1, 3, 2], [-6, -5, 0]]"
            ]
          },
          "metadata": {},
          "execution_count": 30
        }
      ]
    },
    {
      "cell_type": "markdown",
      "source": [
        "**행렬의 스칼라 곱셉**\n",
        "- 숫자 하나와 행렬의 곱셈\n",
        "- 행렬의 각 항목마다 지정된 숫자로 곱해주면 됨."
      ],
      "metadata": {
        "id": "Co3f8LgjEItw"
      }
    },
    {
      "cell_type": "markdown",
      "source": [
        "![image.png](data:image/png;base64,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)"
      ],
      "metadata": {
        "id": "X372IQ5bEhjZ"
      }
    },
    {
      "cell_type": "markdown",
      "source": [
        "**행렬 곱셈**\n",
        "- a * b 행렬과 m * n 행렬의 곱은 a * n의 행렬\n",
        "- **좌측 행렬의 열의 수**와 **우측 행렬의 행의 수**가 같아야만 계산 됨"
      ],
      "metadata": {
        "id": "-K4AqNkuEqpB"
      }
    },
    {
      "cell_type": "markdown",
      "source": [
        "![image.png](data:image/png;base64,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)"
      ],
      "metadata": {
        "id": "d2CMVRJuFLKs"
      }
    },
    {
      "cell_type": "markdown",
      "source": [
        "행렬 곱셈은 **백터의 내적**과 비슷함"
      ],
      "metadata": {
        "id": "DnQiRZ8BF4gp"
      }
    },
    {
      "cell_type": "markdown",
      "source": [
        "**전치 행렬**\n",
        "- **전치**란 행과 열을 바꾸는 것\n",
        "- 행렬 A의 전치는 A^T(A의 T승 처럼 생김)으로 표현\n",
        "- A가 m*n 의 행렬이면 A^T는 n*m의 행렬"
      ],
      "metadata": {
        "id": "-NGKkXitGAn8"
      }
    },
    {
      "cell_type": "code",
      "source": [
        "a = [[1,2,3], #행렬 a\n",
        "     [4,5,6]] "
      ],
      "metadata": {
        "id": "H8upNXmHEV6w"
      },
      "execution_count": 35,
      "outputs": []
    },
    {
      "cell_type": "code",
      "source": [
        "aT = [[1,4], #행렬 a의 전치 행렬\n",
        "      [2,5],\n",
        "      [3,6]]"
      ],
      "metadata": {
        "id": "FSQHLaASGm7V"
      },
      "execution_count": 36,
      "outputs": []
    }
  ]
}