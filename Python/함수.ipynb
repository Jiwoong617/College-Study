{
  "nbformat": 4,
  "nbformat_minor": 0,
  "metadata": {
    "colab": {
      "name": "함수.ipynb",
      "provenance": [],
      "collapsed_sections": []
    },
    "kernelspec": {
      "name": "python3",
      "display_name": "Python 3"
    },
    "language_info": {
      "name": "python"
    }
  },
  "cells": [
    {
      "cell_type": "markdown",
      "source": [
        "###print() 함수\n",
        "* print함수로 출력한 문자열은 ' ' 또는 \" \"으로 감싸야됨\n",
        "* end 인자를 사용하면 print함수 마지막 효과를 변경\n",
        "* sep 인자를 사용하면 콤마로 구분된 문자열을 지정된 값으로 열결해 줌"
      ],
      "metadata": {
        "id": "4ClRipBv0CfY"
      }
    },
    {
      "cell_type": "code",
      "execution_count": 1,
      "metadata": {
        "colab": {
          "base_uri": "https://localhost:8080/"
        },
        "id": "bJJ_RFHnzwIu",
        "outputId": "768b2832-84a6-4936-e90b-b6bf7d46741f"
      },
      "outputs": [
        {
          "output_type": "stream",
          "name": "stdout",
          "text": [
            "Hello python!\n"
          ]
        }
      ],
      "source": [
        "print(\"Hello python!\")"
      ]
    },
    {
      "cell_type": "code",
      "source": [
        "for i in range(5):\n",
        "  print(i, end='\\t') #줄바꿈이 아닌 탭으로 끝내기\n",
        "print('10')"
      ],
      "metadata": {
        "colab": {
          "base_uri": "https://localhost:8080/"
        },
        "id": "yBTSHTkY1mVY",
        "outputId": "f7d3c7f2-1b58-489b-a146-7c657304775a"
      },
      "execution_count": 6,
      "outputs": [
        {
          "output_type": "stream",
          "name": "stdout",
          "text": [
            "0\t1\t2\t3\t4\t10\n"
          ]
        }
      ]
    },
    {
      "cell_type": "code",
      "source": [
        "print(\"hello\", \"python\", \"!\", \"hi\", \"!\")\n",
        "print(\"hello\", \"python\", \"!\", \"hi\", \"!\",sep=' @# ') #콤마로 구분 된걸 ' @# '로 구분시키기"
      ],
      "metadata": {
        "colab": {
          "base_uri": "https://localhost:8080/"
        },
        "id": "fSvI71gU1yqw",
        "outputId": "c4b6729f-7c63-43d0-f135-c3f59fc64b2e"
      },
      "execution_count": 10,
      "outputs": [
        {
          "output_type": "stream",
          "name": "stdout",
          "text": [
            "hello python ! hi !\n",
            "hello @# python @# ! @# hi @# !\n"
          ]
        }
      ]
    },
    {
      "cell_type": "markdown",
      "source": [
        "### 수학 함수"
      ],
      "metadata": {
        "id": "m2dARrG12yWg"
      }
    },
    {
      "cell_type": "markdown",
      "source": [
        "**math 모듈 (넘파이 모듈도 있음)** "
      ],
      "metadata": {
        "id": "pRpfd3ae21dn"
      }
    },
    {
      "cell_type": "code",
      "source": [
        "import math"
      ],
      "metadata": {
        "id": "1yFNR9t72C7y"
      },
      "execution_count": 11,
      "outputs": []
    },
    {
      "cell_type": "markdown",
      "source": [
        "로그 함수"
      ],
      "metadata": {
        "id": "7IsC4kGV29ff"
      }
    },
    {
      "cell_type": "code",
      "source": [
        "math.log10(10) #10을 밑으로 하는 상용로그"
      ],
      "metadata": {
        "colab": {
          "base_uri": "https://localhost:8080/"
        },
        "id": "azntf3Ml287A",
        "outputId": "5323c441-d0df-408c-e89b-039bbc8555fb"
      },
      "execution_count": 14,
      "outputs": [
        {
          "output_type": "execute_result",
          "data": {
            "text/plain": [
              "1.0"
            ]
          },
          "metadata": {},
          "execution_count": 14
        }
      ]
    },
    {
      "cell_type": "code",
      "source": [
        "math.log(10) #자연로그 (ln=loge)"
      ],
      "metadata": {
        "colab": {
          "base_uri": "https://localhost:8080/"
        },
        "id": "Gg4TF-9G3Jvw",
        "outputId": "4c60c715-ee8b-418d-e21f-e04bef90a7fe"
      },
      "execution_count": 13,
      "outputs": [
        {
          "output_type": "execute_result",
          "data": {
            "text/plain": [
              "2.302585092994046"
            ]
          },
          "metadata": {},
          "execution_count": 13
        }
      ]
    },
    {
      "cell_type": "markdown",
      "source": [
        "제곱근 함수 (루트)"
      ],
      "metadata": {
        "id": "ueoGCRgl3ZzI"
      }
    },
    {
      "cell_type": "code",
      "source": [
        "math.sqrt(2) #2의 루트값"
      ],
      "metadata": {
        "colab": {
          "base_uri": "https://localhost:8080/"
        },
        "id": "qLoz3E6g3LUv",
        "outputId": "8e30c002-790d-4042-d8df-ee52a4aab67d"
      },
      "execution_count": 16,
      "outputs": [
        {
          "output_type": "execute_result",
          "data": {
            "text/plain": [
              "1.4142135623730951"
            ]
          },
          "metadata": {},
          "execution_count": 16
        }
      ]
    },
    {
      "cell_type": "markdown",
      "source": [
        "지수 함수 e^x"
      ],
      "metadata": {
        "id": "M5yKb0pR3jW3"
      }
    },
    {
      "cell_type": "code",
      "source": [
        "math.exp(2)"
      ],
      "metadata": {
        "colab": {
          "base_uri": "https://localhost:8080/"
        },
        "id": "Biv5GROS3hog",
        "outputId": "c74d3fd0-a449-47d6-cf4b-2d1ce014f7c3"
      },
      "execution_count": 17,
      "outputs": [
        {
          "output_type": "execute_result",
          "data": {
            "text/plain": [
              "7.38905609893065"
            ]
          },
          "metadata": {},
          "execution_count": 17
        }
      ]
    },
    {
      "cell_type": "code",
      "source": [
        ""
      ],
      "metadata": {
        "id": "LChkiGZ43pTn"
      },
      "execution_count": null,
      "outputs": []
    },
    {
      "cell_type": "markdown",
      "source": [
        "### 함수 정의\n",
        "```\n",
        "def 함수이름(매개변수1, 매개변수2,...,매개변수n):\n",
        "\n",
        "    명령문\n",
        "\n",
        "    return 표현식\n",
        "```\n",
        "* 인자를 받지 않아도 되고, 반환값이 없어도 된다.\n",
        "\n"
      ],
      "metadata": {
        "id": "y2O4je6V3yXX"
      }
    },
    {
      "cell_type": "markdown",
      "source": [
        "ex) 홀수 짝수 구분 함수"
      ],
      "metadata": {
        "id": "-oqe2iYV4wnw"
      }
    },
    {
      "cell_type": "code",
      "source": [
        "def oddeven (num):\n",
        "  if num % 2 == 1:\n",
        "    print(\"홀수\")\n",
        "  else:\n",
        "    print(\"짝수\")\n",
        "\n",
        "oddeven(10)"
      ],
      "metadata": {
        "colab": {
          "base_uri": "https://localhost:8080/"
        },
        "id": "DqDL--J43xV3",
        "outputId": "8233fb07-bf29-4b41-de89-7365275a8c9f"
      },
      "execution_count": 19,
      "outputs": [
        {
          "output_type": "stream",
          "name": "stdout",
          "text": [
            "짝수\n"
          ]
        }
      ]
    },
    {
      "cell_type": "markdown",
      "source": [
        "ex) 리스트 값들 제곱의 합 구하는 함수"
      ],
      "metadata": {
        "id": "onU_utyh5HGO"
      }
    },
    {
      "cell_type": "code",
      "source": [
        "def square_sum(aList):\n",
        "\n",
        "  def pow(x):\n",
        "    return x**2\n",
        "\n",
        "  a = list(map(pow,aList))\n",
        "  return sum(a)\n",
        "\n",
        "square_sum([3,5,7])"
      ],
      "metadata": {
        "colab": {
          "base_uri": "https://localhost:8080/"
        },
        "id": "759PnW985D8o",
        "outputId": "de8269a0-5736-48f3-ee51-dbe53cdb4c35"
      },
      "execution_count": 20,
      "outputs": [
        {
          "output_type": "execute_result",
          "data": {
            "text/plain": [
              "83"
            ]
          },
          "metadata": {},
          "execution_count": 20
        }
      ]
    },
    {
      "cell_type": "markdown",
      "source": [
        "ex)리스트 값에서 양수로만 모아 새로운 리스트 반환하는 함수"
      ],
      "metadata": {
        "id": "eeY6SCE56Bct"
      }
    },
    {
      "cell_type": "code",
      "source": [
        "def positive_list(aList):\n",
        "\n",
        "  def positive(x):\n",
        "    return x>0\n",
        "\n",
        "  b = list(filter(positive,aList))\n",
        "  return b\n",
        "\n",
        "positive_list([-1, 1, 2, -2, 3, -3])"
      ],
      "metadata": {
        "colab": {
          "base_uri": "https://localhost:8080/"
        },
        "id": "FwXytayT54bY",
        "outputId": "5214fb70-7779-4a96-e4f9-fc6130851fa3"
      },
      "execution_count": 21,
      "outputs": [
        {
          "output_type": "execute_result",
          "data": {
            "text/plain": [
              "[1, 2, 3]"
            ]
          },
          "metadata": {},
          "execution_count": 21
        }
      ]
    },
    {
      "cell_type": "markdown",
      "source": [
        "ex) 2*2 격자 무늬 크기조정 함수"
      ],
      "metadata": {
        "id": "Ak1zv12f6tUn"
      }
    },
    {
      "cell_type": "code",
      "source": [
        "def grid(garo, sero):\n",
        "  sero1 = sero*2 +3\n",
        "  garo1 = garo*2+3\n",
        "\n",
        "  for i in range(sero1):\n",
        "    if i == 0 or i == sero+1 or i == sero1-1:\n",
        "      for j in range(garo1):\n",
        "        if j == 0 or j == garo+1 or j == garo1-1:\n",
        "          print('+',end=' ')\n",
        "        else:\n",
        "          print('-',end=' ')\n",
        "    \n",
        "    else:\n",
        "      for j in range(garo1):\n",
        "        if j == 0 or j==garo+1 or j == garo1-1:\n",
        "          print('l',end=' ')\n",
        "        else :\n",
        "          print(' ',end=' ')\n",
        "\n",
        "    print('')\n",
        "\n",
        "grid(5,5)"
      ],
      "metadata": {
        "colab": {
          "base_uri": "https://localhost:8080/"
        },
        "id": "qCPsq8TE6JTA",
        "outputId": "093c6849-fa68-4404-8bf0-6680da27c9ad"
      },
      "execution_count": 23,
      "outputs": [
        {
          "output_type": "stream",
          "name": "stdout",
          "text": [
            "+ - - - - - + - - - - - + \n",
            "l           l           l \n",
            "l           l           l \n",
            "l           l           l \n",
            "l           l           l \n",
            "l           l           l \n",
            "+ - - - - - + - - - - - + \n",
            "l           l           l \n",
            "l           l           l \n",
            "l           l           l \n",
            "l           l           l \n",
            "l           l           l \n",
            "+ - - - - - + - - - - - + \n"
          ]
        }
      ]
    },
    {
      "cell_type": "markdown",
      "source": [
        "ex) 몫연산자 //와 나머지 연산자 % 사용하지 않고 몫과 나머지 반환하는 함수"
      ],
      "metadata": {
        "id": "C-OfJL5Y7LZf"
      }
    },
    {
      "cell_type": "code",
      "source": [
        "def divide_qr(numerator, denomenator):\n",
        "  a = numerator\n",
        "  num = 0\n",
        "  while a >= denomenator:\n",
        "    a -= denomenator\n",
        "    num += 1\n",
        "  b = (num,a)\n",
        "\n",
        "  return b\n",
        "\n",
        "divide_qr(10,3)"
      ],
      "metadata": {
        "colab": {
          "base_uri": "https://localhost:8080/"
        },
        "id": "wj6omjPx62uv",
        "outputId": "78b32d41-2af3-4439-fe6e-65ba733fe7c9"
      },
      "execution_count": 24,
      "outputs": [
        {
          "output_type": "execute_result",
          "data": {
            "text/plain": [
              "(3, 1)"
            ]
          },
          "metadata": {},
          "execution_count": 24
        }
      ]
    },
    {
      "cell_type": "code",
      "source": [
        ""
      ],
      "metadata": {
        "id": "tyW86ytB7TMv"
      },
      "execution_count": null,
      "outputs": []
    }
  ]
}