{
  "nbformat": 4,
  "nbformat_minor": 0,
  "metadata": {
    "colab": {
      "name": "map함수, filter함수.ipynb",
      "provenance": [],
      "collapsed_sections": []
    },
    "kernelspec": {
      "name": "python3",
      "display_name": "Python 3"
    },
    "language_info": {
      "name": "python"
    }
  },
  "cells": [
    {
      "cell_type": "markdown",
      "source": [
        "### map()\n",
        "\n",
        "```\n",
        "map(적용시킬 함수, 적용시킬 요소)\n",
        "```\n",
        "* 반복 가능한(iterable) 객체들을 받아서 함수에 적용해주는 함수이다.\n",
        "+ 출력결과가 iterator 이기 때문에 결과를 확인 할 수 없음 따라서 자료형을 변환해 주어야됨\n",
        "* lambda를 사용하여 간단하게 간단한 식의 함수는 map안에 입력가능"
      ],
      "metadata": {
        "id": "ZmdCBZZTST3k"
      }
    },
    {
      "cell_type": "markdown",
      "source": [
        "여러개의 정수형 인자를 한 줄에 입력받을 때"
      ],
      "metadata": {
        "id": "Auogh8SLS8aj"
      }
    },
    {
      "cell_type": "code",
      "execution_count": 4,
      "metadata": {
        "id": "dUs_4dn_7h7z",
        "colab": {
          "base_uri": "https://localhost:8080/"
        },
        "outputId": "55cf3d3a-38bd-427d-86a8-c031b5812a8f"
      },
      "outputs": [
        {
          "name": "stdout",
          "output_type": "stream",
          "text": [
            "1 2\n"
          ]
        }
      ],
      "source": [
        "a, b = map(int,input().split()) #.split을 써주어야 된다."
      ]
    },
    {
      "cell_type": "markdown",
      "source": [
        "리스트의 값들의 제곱을 반환하는 함수"
      ],
      "metadata": {
        "id": "IxWZ1UT9STJ9"
      }
    },
    {
      "cell_type": "code",
      "source": [
        "def zegop (n):\n",
        "  return n**2\n",
        "\n",
        "x = map(zegop, [1,2,3,4,5])\n",
        "print(x)\n",
        "print(list(x)) # 자료형 변환 해야됨"
      ],
      "metadata": {
        "colab": {
          "base_uri": "https://localhost:8080/"
        },
        "id": "cvLKiv8iTmJ6",
        "outputId": "0b78c80d-242f-4afc-fb87-3cc63602d15d"
      },
      "execution_count": 20,
      "outputs": [
        {
          "output_type": "stream",
          "name": "stdout",
          "text": [
            "<map object at 0x7fb019a89b90>\n",
            "[1, 4, 9, 16, 25]\n"
          ]
        }
      ]
    },
    {
      "cell_type": "markdown",
      "source": [
        "lambda 사용"
      ],
      "metadata": {
        "id": "eihaWv_nWaf6"
      }
    },
    {
      "cell_type": "code",
      "source": [
        "y = map(lambda a : a**2, [1,2,3,4,5])\n",
        "print(list(y))"
      ],
      "metadata": {
        "colab": {
          "base_uri": "https://localhost:8080/"
        },
        "id": "5UbGBAFoWGzq",
        "outputId": "19b9fdfe-335b-44ea-d19a-22c77314a137"
      },
      "execution_count": 23,
      "outputs": [
        {
          "output_type": "stream",
          "name": "stdout",
          "text": [
            "[1, 4, 9, 16, 25]\n"
          ]
        }
      ]
    },
    {
      "cell_type": "markdown",
      "source": [
        "###filter 함수\n",
        "```\n",
        "filter(적용시킬 함수, 적용시킬 요소)\n",
        "```\n",
        "* 반복 가능한(iterable) 요소들을 특정 조건으로 걸러서 객체를 만들어 줌\n",
        "  * map 함수랑 비슷하나 map은 함수에 대입하여 값을 반환해 주고\n",
        "  * filter는 함수에서 참인 값만 반환한다. (값 반환 X)\n",
        "+ 출력결과가 iterator 이기 때문에 결과를 확인 할 수 없음 따라서 자료형을 변환해 주어야됨\n",
        "* lambda를 사용하여 간단하게 간단한 식의 함수는 filter안에 입력가능"
      ],
      "metadata": {
        "id": "w9Ycs55wUkDT"
      }
    },
    {
      "cell_type": "markdown",
      "source": [
        "양수만 반환하는 필터"
      ],
      "metadata": {
        "id": "UskhDP-gVxkq"
      }
    },
    {
      "cell_type": "code",
      "source": [
        "def yangsoo(n):\n",
        "  return n>0\n",
        "\n",
        "x = filter(yangsoo,[-1, 2, -3, 4, -5, 6, -7, 8, -9, 10])\n",
        "print(x)\n",
        "print(list(x)) # 자료형 변환 해야됨"
      ],
      "metadata": {
        "colab": {
          "base_uri": "https://localhost:8080/"
        },
        "id": "8HRHexXNTrWK",
        "outputId": "f7234a25-234c-4f87-f894-85d857cf21a3"
      },
      "execution_count": 25,
      "outputs": [
        {
          "output_type": "stream",
          "name": "stdout",
          "text": [
            "<filter object at 0x7fb011b35410>\n",
            "[2, 4, 6, 8, 10]\n"
          ]
        }
      ]
    },
    {
      "cell_type": "markdown",
      "source": [
        "lambda 사용"
      ],
      "metadata": {
        "id": "ggV2iS-NW_wB"
      }
    },
    {
      "cell_type": "code",
      "source": [
        "y = filter(lambda a : a>0, [-1, 2, -3, 4, -5, 6, -7, 8, -9, 10])\n",
        "print(list(y))"
      ],
      "metadata": {
        "colab": {
          "base_uri": "https://localhost:8080/"
        },
        "id": "stOpU2dhW7Sy",
        "outputId": "e4e5db73-f2b2-4f5e-94eb-30b588e637df"
      },
      "execution_count": 27,
      "outputs": [
        {
          "output_type": "stream",
          "name": "stdout",
          "text": [
            "[2, 4, 6, 8, 10]\n"
          ]
        }
      ]
    },
    {
      "cell_type": "markdown",
      "source": [
        "### map과 filter 차이점 보기"
      ],
      "metadata": {
        "id": "v3_1pcrJXPp6"
      }
    },
    {
      "cell_type": "markdown",
      "source": [
        "짝수 반환 함수와 n+1 함수 정의"
      ],
      "metadata": {
        "id": "aDqame82Xdbh"
      }
    },
    {
      "cell_type": "code",
      "source": [
        "def even(n):\n",
        "  return n%2==0\n",
        "\n",
        "def plus1(n):\n",
        "  return n+1"
      ],
      "metadata": {
        "id": "L_ukFaCgXK7Z"
      },
      "execution_count": 28,
      "outputs": []
    },
    {
      "cell_type": "markdown",
      "source": [
        "map 과 filter를 사용하여 위 두 함수 실행시키기"
      ],
      "metadata": {
        "id": "bYmVpOPAXqG6"
      }
    },
    {
      "cell_type": "code",
      "source": [
        "map1 = map(even, [1,2,3,4,5,6,7,8,9,10])\n",
        "map2 = map(plus1, [-1,1,2,3,4,5,6,7,8,9,10])\n",
        "\n",
        "filt1 = filter(even, [1,2,3,4,5,6,7,8,9,10])\n",
        "filt2 = filter(plus1, [-1,1,2,3,4,5,6,7,8,9,10])\n",
        "\n",
        "print(list(map1))\n",
        "print(list(map2))\n",
        "print(list(filt1))\n",
        "print(list(filt2))"
      ],
      "metadata": {
        "colab": {
          "base_uri": "https://localhost:8080/"
        },
        "id": "sRYuaBG2Xoyy",
        "outputId": "6893d411-fd44-4962-f545-2ad7abcbf102"
      },
      "execution_count": 34,
      "outputs": [
        {
          "output_type": "stream",
          "name": "stdout",
          "text": [
            "[False, True, False, True, False, True, False, True, False, True]\n",
            "[0, 2, 3, 4, 5, 6, 7, 8, 9, 10, 11]\n",
            "[2, 4, 6, 8, 10]\n",
            "[1, 2, 3, 4, 5, 6, 7, 8, 9, 10]\n"
          ]
        }
      ]
    },
    {
      "cell_type": "markdown",
      "source": [
        "**map**\n",
        "* 값을 반환함으로 even함수의 True False를 반환\n",
        "* plus1의 함수는 n+1을 반환\n",
        "\n",
        "**filter**\n",
        "* 참인 요소를 반환함으로 even 함수의 짝수만 반환\n",
        "* plus1에선 n+1을 하였을 때 0(False)을 제외한 모든 수는 True이므로 -1을 제외한 다른요소 반환\n"
      ],
      "metadata": {
        "id": "9wft7Oc3YY4K"
      }
    }
  ]
}