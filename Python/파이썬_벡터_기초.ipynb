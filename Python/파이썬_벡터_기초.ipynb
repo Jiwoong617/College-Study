{
  "nbformat": 4,
  "nbformat_minor": 0,
  "metadata": {
    "colab": {
      "name": "파이썬_벡터_기초.ipynb",
      "provenance": [],
      "collapsed_sections": []
    },
    "kernelspec": {
      "name": "python3",
      "display_name": "Python 3"
    },
    "language_info": {
      "name": "python"
    }
  },
  "cells": [
    {
      "cell_type": "markdown",
      "source": [
        "##벡터\n",
        "- 벡터는 유한개의 숫자 담고 있음\n",
        "- 벡터의 길이를 차원이라 부름\n",
        "- 벡터 자료형은 부동소수점들로 어루어진 리스트로 정의될 수 있다."
      ],
      "metadata": {
        "id": "J7a38cP62F_2"
      }
    },
    {
      "cell_type": "code",
      "execution_count": null,
      "metadata": {
        "id": "_GbxtnbB1-7g"
      },
      "outputs": [],
      "source": [
        "from typing import List\n",
        "Vector = List[float]"
      ]
    },
    {
      "cell_type": "code",
      "source": [
        "vecta : Vector = [10, 20, 30]\n",
        "vectb : Vector = [56, 12, 70]"
      ],
      "metadata": {
        "id": "iyYEFZx22o3H"
      },
      "execution_count": null,
      "outputs": []
    },
    {
      "cell_type": "markdown",
      "source": [
        "**벡터의 덧셈**"
      ],
      "metadata": {
        "id": "r0VRwT9h3j9t"
      }
    },
    {
      "cell_type": "code",
      "source": [
        "def addv(v : Vector, w: Vector) -> Vector:\n",
        "  assert len(v) == len(w)\n",
        "\n",
        "  return [a+b for a, b in zip(v,w)]"
      ],
      "metadata": {
        "id": "42kTSxEK3jAn"
      },
      "execution_count": null,
      "outputs": []
    },
    {
      "cell_type": "code",
      "source": [
        "addv(vecta, vectb)"
      ],
      "metadata": {
        "colab": {
          "base_uri": "https://localhost:8080/"
        },
        "id": "9G9NrP_d4JF2",
        "outputId": "482fdfb1-b3f8-4263-9d8e-92d27a82bc36"
      },
      "execution_count": null,
      "outputs": [
        {
          "output_type": "execute_result",
          "data": {
            "text/plain": [
              "[66, 32, 100]"
            ]
          },
          "metadata": {},
          "execution_count": 13
        }
      ]
    },
    {
      "cell_type": "markdown",
      "source": [
        "덧셈의 일반화"
      ],
      "metadata": {
        "id": "75RM94z85_f4"
      }
    },
    {
      "cell_type": "code",
      "source": [
        "def vector_sum(vectors: List[Vector]) -> Vector:\n",
        "    \n",
        "    assert vectors\n",
        "\n",
        "    num_elements = len(vectors[0])\n",
        "    \n",
        "    assert all(len(v) == num_elements for v in vectors)\n",
        "    \n",
        "    return [sum(vector[i] for vector in vectors)\n",
        "            for i in range(num_elements)]"
      ],
      "metadata": {
        "id": "rTFmulox6ApU"
      },
      "execution_count": null,
      "outputs": []
    },
    {
      "cell_type": "code",
      "source": [
        "vector_sum([[1, 2], [3, 4], [5, 6], [7, 8]])"
      ],
      "metadata": {
        "colab": {
          "base_uri": "https://localhost:8080/"
        },
        "id": "D_Ew8XCq6JaY",
        "outputId": "a050762c-072d-46e3-a8c0-848caa849c09"
      },
      "execution_count": null,
      "outputs": [
        {
          "output_type": "execute_result",
          "data": {
            "text/plain": [
              "[16, 20]"
            ]
          },
          "metadata": {},
          "execution_count": 29
        }
      ]
    },
    {
      "cell_type": "markdown",
      "source": [
        "**벡터 뻴셈**"
      ],
      "metadata": {
        "id": "HSwlkPxH4QGe"
      }
    },
    {
      "cell_type": "code",
      "source": [
        "def subv(v : Vector, w: Vector) -> Vector:\n",
        "  assert len(v) == len(w)\n",
        "\n",
        "  return [a-b for a, b in zip(v,w)]"
      ],
      "metadata": {
        "id": "SCvpwZnS4L9P"
      },
      "execution_count": null,
      "outputs": []
    },
    {
      "cell_type": "code",
      "source": [
        "subv(vecta, vectb)"
      ],
      "metadata": {
        "colab": {
          "base_uri": "https://localhost:8080/"
        },
        "id": "grA-E9mO4cOe",
        "outputId": "e029ee5d-8436-46ee-e7e9-aadd2d37a06a"
      },
      "execution_count": null,
      "outputs": [
        {
          "output_type": "execute_result",
          "data": {
            "text/plain": [
              "[-46, 8, -40]"
            ]
          },
          "metadata": {},
          "execution_count": 15
        }
      ]
    },
    {
      "cell_type": "markdown",
      "source": [
        "**벡터와 스칼라 곱셉**"
      ],
      "metadata": {
        "id": "UGXG3M7u4tnV"
      }
    },
    {
      "cell_type": "code",
      "source": [
        "def multv( f: float, v : Vector) -> Vector:\n",
        "\n",
        "  return [a*f for a in v]"
      ],
      "metadata": {
        "id": "CuPAvxWT4s7f"
      },
      "execution_count": null,
      "outputs": []
    },
    {
      "cell_type": "code",
      "source": [
        "multv(5, vecta)"
      ],
      "metadata": {
        "colab": {
          "base_uri": "https://localhost:8080/"
        },
        "id": "XzQqdu_S4ehL",
        "outputId": "cf1d7283-7471-49d2-d9e7-731498515bf1"
      },
      "execution_count": null,
      "outputs": [
        {
          "output_type": "execute_result",
          "data": {
            "text/plain": [
              "[50, 100, 150]"
            ]
          },
          "metadata": {},
          "execution_count": 33
        }
      ]
    },
    {
      "cell_type": "markdown",
      "source": [
        "**항목별 벡터 평균**"
      ],
      "metadata": {
        "id": "haZiL26K5TwJ"
      }
    },
    {
      "cell_type": "code",
      "source": [
        "def vector_mean(vectors: List[Vector]) -> Vector:\n",
        "    n = len(vectors)\n",
        "    return multv(1/n, vector_sum(vectors))"
      ],
      "metadata": {
        "id": "v9TNO8ZB5QVJ"
      },
      "execution_count": null,
      "outputs": []
    },
    {
      "cell_type": "code",
      "source": [
        "vector_mean([[1, 2], [2, 1], [2, 3]])"
      ],
      "metadata": {
        "colab": {
          "base_uri": "https://localhost:8080/"
        },
        "id": "9977A-oV5c-s",
        "outputId": "10afe640-1eb6-4f26-b505-1174c499b57c"
      },
      "execution_count": null,
      "outputs": [
        {
          "output_type": "execute_result",
          "data": {
            "text/plain": [
              "[1.6666666666666665, 2.0]"
            ]
          },
          "metadata": {},
          "execution_count": 35
        }
      ]
    },
    {
      "cell_type": "markdown",
      "source": [
        "**벡터의 내적**\n",
        "- 차원이 같은 벡터 2개의 내적은 같은 위치의 항목끼리 곱한 후 모두 더한값"
      ],
      "metadata": {
        "id": "h9QBrWDh7drz"
      }
    },
    {
      "cell_type": "code",
      "source": [
        "def dot(v: Vector, w: Vector) -> float:\n",
        "    assert len(v) == len(w)\n",
        "\n",
        "    return sum(a * b for a, b in zip(v, w))"
      ],
      "metadata": {
        "id": "t5QlKKIf5oPC"
      },
      "execution_count": null,
      "outputs": []
    },
    {
      "cell_type": "code",
      "source": [
        "dot(vecta, vectb)"
      ],
      "metadata": {
        "colab": {
          "base_uri": "https://localhost:8080/"
        },
        "id": "0ybiqSl58E1F",
        "outputId": "d730b40b-7e37-4fa6-9587-3c76db9903a7"
      },
      "execution_count": null,
      "outputs": [
        {
          "output_type": "execute_result",
          "data": {
            "text/plain": [
              "2900"
            ]
          },
          "metadata": {},
          "execution_count": 37
        }
      ]
    },
    {
      "cell_type": "markdown",
      "source": [
        "**벡터의 크기**\n",
        "- 각 항목별 제곱의 합\n",
        "- v와 v자기 자신의 내적과 같음"
      ],
      "metadata": {
        "id": "tRprhs9e8JSg"
      }
    },
    {
      "cell_type": "code",
      "source": [
        "import math\n",
        "\n",
        "def sum_of_squares(v: Vector) -> float: #자기자신과 내적\n",
        "    return dot(v, v)\n",
        "\n",
        "def magnitude(v: Vector) -> float: #항목별 제곱의 합\n",
        "    return math.sqrt(sum_of_squares(v))"
      ],
      "metadata": {
        "id": "ahgJAhTg8GSI"
      },
      "execution_count": null,
      "outputs": []
    },
    {
      "cell_type": "code",
      "source": [
        "magnitude(vecta)"
      ],
      "metadata": {
        "colab": {
          "base_uri": "https://localhost:8080/"
        },
        "id": "26ZF-p4p8fGO",
        "outputId": "d8086a60-49db-4e98-8708-4f172dfb3e45"
      },
      "execution_count": null,
      "outputs": [
        {
          "output_type": "execute_result",
          "data": {
            "text/plain": [
              "37.416573867739416"
            ]
          },
          "metadata": {},
          "execution_count": 41
        }
      ]
    },
    {
      "cell_type": "markdown",
      "source": [
        "**벡터 사이의 거리**\n",
        "- 차원이 같은 벡터 2개의 각 항목별 뺄셈 제곱의 총합을 루트 씌운것"
      ],
      "metadata": {
        "id": "CtxsTCJC8jvn"
      }
    },
    {
      "cell_type": "code",
      "source": [
        "def distance(v: Vector, w: Vector) -> float:\n",
        "    return magnitude(subv(v, w))"
      ],
      "metadata": {
        "id": "i_mVVXUu8hxL"
      },
      "execution_count": null,
      "outputs": []
    },
    {
      "cell_type": "code",
      "source": [
        "distance(vecta, vectb)"
      ],
      "metadata": {
        "id": "HeGoiu5O9WEH",
        "outputId": "d484e012-da44-48cd-fdb6-77e23e7aeb41",
        "colab": {
          "base_uri": "https://localhost:8080/"
        }
      },
      "execution_count": null,
      "outputs": [
        {
          "output_type": "execute_result",
          "data": {
            "text/plain": [
              "61.48170459575759"
            ]
          },
          "metadata": {},
          "execution_count": 43
        }
      ]
    }
  ]
}